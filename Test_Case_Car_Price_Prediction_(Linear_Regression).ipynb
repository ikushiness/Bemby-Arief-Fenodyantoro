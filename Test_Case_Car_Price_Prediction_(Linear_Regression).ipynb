{
  "nbformat": 4,
  "nbformat_minor": 0,
  "metadata": {
    "colab": {
      "provenance": []
    },
    "kernelspec": {
      "name": "python3",
      "display_name": "Python 3"
    },
    "language_info": {
      "name": "python"
    }
  },
  "cells": [
    {
      "cell_type": "markdown",
      "source": [
        "# **BACKGROUND / PROBLEM**\n",
        "\n",
        "A indonesia automotive company ASTRA aspires to enter the World market by setting up their manufacturing unit there and producing cars locally to give competition to their US and European counterparts.\n",
        "\n",
        "They have contracted an automobile consulting company to understand the factors on which the pricing of cars depends. Specifically, they want to understand the factors affecting the pricing of cars in the World market, since those may be very different from the Indonesian market. The company wants to know:\n",
        "\n",
        "Which variables are significant in predicting the price of a car\n",
        "How well those variables describe the price of a car\n",
        "Based on various market surveys, the consulting firm has gathered a large data set of different types of cars across the World market."
      ],
      "metadata": {
        "id": "EDdss5jWfVJA"
      }
    },
    {
      "cell_type": "markdown",
      "source": [
        "# **BUSINESS GOAL**\n",
        "\n",
        "This will be used by management to understand how prices actually vary with the independent variables. Therefore, they can manipulate car designs, business strategies, etc. to meet a certain price level. Furthermore, this model will be a good way for management to understand price dynamics in new markets."
      ],
      "metadata": {
        "id": "OZAhA8NgfiLJ"
      }
    },
    {
      "cell_type": "code",
      "execution_count": 384,
      "metadata": {
        "id": "3iw_W9nE9PpV"
      },
      "outputs": [],
      "source": [
        "import numpy as np\n",
        "import pandas as pd\n",
        "import matplotlib.pyplot as plt\n",
        "from sklearn.preprocessing import StandardScaler, LabelEncoder\n",
        "from sklearn.model_selection import train_test_split\n",
        "from sklearn.ensemble import RandomForestRegressor\n",
        "from sklearn.metrics import mean_squared_error,r2_score\n",
        "from sklearn.model_selection import cross_val_score\n",
        "import optuna\n",
        "\n",
        "import warnings\n",
        "warnings.filterwarnings('ignore')\n"
      ]
    },
    {
      "cell_type": "markdown",
      "source": [
        "# **DATASET**"
      ],
      "metadata": {
        "id": "gR5MlsYOgQ8Y"
      }
    },
    {
      "cell_type": "code",
      "source": [
        "data = pd.read_csv(\"/content/drive/MyDrive/CarPrice_Assignment.csv\")\n",
        "print(data.head())\n",
        "print(data.describe())"
      ],
      "metadata": {
        "colab": {
          "base_uri": "https://localhost:8080/"
        },
        "id": "_jj4fIilCQmc",
        "outputId": "d091a4c7-8235-4c15-ec32-567d0c58a59d"
      },
      "execution_count": 385,
      "outputs": [
        {
          "output_type": "stream",
          "name": "stdout",
          "text": [
            "   car_ID  symboling                  CarName fueltype aspiration doornumber  \\\n",
            "0       1          3        alfaromero giulia      gas        std        two   \n",
            "1       2          3       alfaromero stelvio      gas        std        two   \n",
            "2       3          1  alfaromero Quadrifoglio      gas        std        two   \n",
            "3       4          2              audi 100 ls      gas        std       four   \n",
            "4       5          2               audi 100ls      gas        std       four   \n",
            "\n",
            "       carbody drivewheel enginelocation  wheelbase  ...  enginesize  \\\n",
            "0  convertible        rwd          front       88.6  ...         130   \n",
            "1  convertible        rwd          front       88.6  ...         130   \n",
            "2    hatchback        rwd          front       94.5  ...         152   \n",
            "3        sedan        fwd          front       99.8  ...         109   \n",
            "4        sedan        4wd          front       99.4  ...         136   \n",
            "\n",
            "   fuelsystem  boreratio  stroke compressionratio horsepower  peakrpm citympg  \\\n",
            "0        mpfi       3.47    2.68              9.0        111     5000      21   \n",
            "1        mpfi       3.47    2.68              9.0        111     5000      21   \n",
            "2        mpfi       2.68    3.47              9.0        154     5000      19   \n",
            "3        mpfi       3.19    3.40             10.0        102     5500      24   \n",
            "4        mpfi       3.19    3.40              8.0        115     5500      18   \n",
            "\n",
            "   highwaympg    price  \n",
            "0          27  13495.0  \n",
            "1          27  16500.0  \n",
            "2          26  16500.0  \n",
            "3          30  13950.0  \n",
            "4          22  17450.0  \n",
            "\n",
            "[5 rows x 26 columns]\n",
            "           car_ID   symboling   wheelbase   carlength    carwidth   carheight  \\\n",
            "count  205.000000  205.000000  205.000000  205.000000  205.000000  205.000000   \n",
            "mean   103.000000    1.107317   98.756585  174.049268   65.907805   53.724878   \n",
            "std     59.322565    1.008880    6.021776   12.337289    2.145204    2.443522   \n",
            "min      1.000000    0.000000   86.600000  141.100000   60.300000   47.800000   \n",
            "25%     52.000000    0.000000   94.500000  166.300000   64.100000   52.000000   \n",
            "50%    103.000000    1.000000   97.000000  173.200000   65.500000   54.100000   \n",
            "75%    154.000000    2.000000  102.400000  183.100000   66.900000   55.500000   \n",
            "max    205.000000    3.000000  120.900000  208.100000   72.300000   59.800000   \n",
            "\n",
            "        curbweight  enginesize   boreratio      stroke  compressionratio  \\\n",
            "count   205.000000  205.000000  205.000000  205.000000        205.000000   \n",
            "mean   2555.565854  126.907317    3.329756    3.255415         10.142537   \n",
            "std     520.680204   41.642693    0.270844    0.313597          3.972040   \n",
            "min    1488.000000   61.000000    2.540000    2.070000          7.000000   \n",
            "25%    2145.000000   97.000000    3.150000    3.110000          8.600000   \n",
            "50%    2414.000000  120.000000    3.310000    3.290000          9.000000   \n",
            "75%    2935.000000  141.000000    3.580000    3.410000          9.400000   \n",
            "max    4066.000000  326.000000    3.940000    4.170000         23.000000   \n",
            "\n",
            "       horsepower      peakrpm     citympg  highwaympg         price  \n",
            "count  205.000000   205.000000  205.000000  205.000000    205.000000  \n",
            "mean   104.117073  5125.121951   25.219512   30.751220  13276.710571  \n",
            "std     39.544167   476.985643    6.542142    6.886443   7988.852332  \n",
            "min     48.000000  4150.000000   13.000000   16.000000   5118.000000  \n",
            "25%     70.000000  4800.000000   19.000000   25.000000   7788.000000  \n",
            "50%     95.000000  5200.000000   24.000000   30.000000  10295.000000  \n",
            "75%    116.000000  5500.000000   30.000000   34.000000  16503.000000  \n",
            "max    288.000000  6600.000000   49.000000   54.000000  45400.000000  \n"
          ]
        }
      ]
    },
    {
      "cell_type": "markdown",
      "source": [
        "# **DATA PREPROCESSING**"
      ],
      "metadata": {
        "id": "iB-3Y74sgLQi"
      }
    },
    {
      "cell_type": "code",
      "source": [
        "X = data.drop(columns=['car_ID', 'price'])\n",
        "y = data['price']\n",
        "X_train, X_test, y_train, y_test = train_test_split(X, y, test_size=0.2, random_state=42)\n",
        "\n",
        "categorical_columns = data.select_dtypes(include=object).columns.tolist()\n",
        "numerical_columns = data.select_dtypes(exclude=object).columns.tolist()\n"
      ],
      "metadata": {
        "id": "eZVhfozwCQjW"
      },
      "execution_count": 386,
      "outputs": []
    },
    {
      "cell_type": "code",
      "source": [
        "label_encoder = LabelEncoder()\n",
        "for column in categorical_columns:\n",
        "    data[column] = label_encoder.fit_transform(data[column])"
      ],
      "metadata": {
        "id": "wvSXMeUPT59d"
      },
      "execution_count": 387,
      "outputs": []
    },
    {
      "cell_type": "code",
      "source": [
        "scaler = StandardScaler()\n",
        "data[numerical_columns] = scaler.fit_transform(data[numerical_columns])"
      ],
      "metadata": {
        "id": "SqJ15pm2UA3o"
      },
      "execution_count": 388,
      "outputs": []
    },
    {
      "cell_type": "markdown",
      "source": [
        "# **MODEL USING DEFAULT PARAMETER**"
      ],
      "metadata": {
        "id": "LumdO27Rgjl4"
      }
    },
    {
      "cell_type": "code",
      "source": [
        "X = data.drop('price', axis=1)\n",
        "y = data['price']\n",
        "X_train, X_test, y_train, y_test = train_test_split(X, y, test_size=0.2, random_state=42)"
      ],
      "metadata": {
        "id": "KYA3tsvsCQgl"
      },
      "execution_count": 389,
      "outputs": []
    },
    {
      "cell_type": "code",
      "source": [
        "model = RandomForestRegressor()"
      ],
      "metadata": {
        "id": "_J5a3T6qYLS3"
      },
      "execution_count": 390,
      "outputs": []
    },
    {
      "cell_type": "code",
      "source": [
        "model.fit(X_train, y_train)"
      ],
      "metadata": {
        "colab": {
          "base_uri": "https://localhost:8080/",
          "height": 75
        },
        "id": "SQoNQKNPX_BC",
        "outputId": "bb31d2ac-3066-4898-a6fa-c3938c77cb41"
      },
      "execution_count": 391,
      "outputs": [
        {
          "output_type": "execute_result",
          "data": {
            "text/plain": [
              "RandomForestRegressor()"
            ],
            "text/html": [
              "<style>#sk-container-id-9 {color: black;background-color: white;}#sk-container-id-9 pre{padding: 0;}#sk-container-id-9 div.sk-toggleable {background-color: white;}#sk-container-id-9 label.sk-toggleable__label {cursor: pointer;display: block;width: 100%;margin-bottom: 0;padding: 0.3em;box-sizing: border-box;text-align: center;}#sk-container-id-9 label.sk-toggleable__label-arrow:before {content: \"▸\";float: left;margin-right: 0.25em;color: #696969;}#sk-container-id-9 label.sk-toggleable__label-arrow:hover:before {color: black;}#sk-container-id-9 div.sk-estimator:hover label.sk-toggleable__label-arrow:before {color: black;}#sk-container-id-9 div.sk-toggleable__content {max-height: 0;max-width: 0;overflow: hidden;text-align: left;background-color: #f0f8ff;}#sk-container-id-9 div.sk-toggleable__content pre {margin: 0.2em;color: black;border-radius: 0.25em;background-color: #f0f8ff;}#sk-container-id-9 input.sk-toggleable__control:checked~div.sk-toggleable__content {max-height: 200px;max-width: 100%;overflow: auto;}#sk-container-id-9 input.sk-toggleable__control:checked~label.sk-toggleable__label-arrow:before {content: \"▾\";}#sk-container-id-9 div.sk-estimator input.sk-toggleable__control:checked~label.sk-toggleable__label {background-color: #d4ebff;}#sk-container-id-9 div.sk-label input.sk-toggleable__control:checked~label.sk-toggleable__label {background-color: #d4ebff;}#sk-container-id-9 input.sk-hidden--visually {border: 0;clip: rect(1px 1px 1px 1px);clip: rect(1px, 1px, 1px, 1px);height: 1px;margin: -1px;overflow: hidden;padding: 0;position: absolute;width: 1px;}#sk-container-id-9 div.sk-estimator {font-family: monospace;background-color: #f0f8ff;border: 1px dotted black;border-radius: 0.25em;box-sizing: border-box;margin-bottom: 0.5em;}#sk-container-id-9 div.sk-estimator:hover {background-color: #d4ebff;}#sk-container-id-9 div.sk-parallel-item::after {content: \"\";width: 100%;border-bottom: 1px solid gray;flex-grow: 1;}#sk-container-id-9 div.sk-label:hover label.sk-toggleable__label {background-color: #d4ebff;}#sk-container-id-9 div.sk-serial::before {content: \"\";position: absolute;border-left: 1px solid gray;box-sizing: border-box;top: 0;bottom: 0;left: 50%;z-index: 0;}#sk-container-id-9 div.sk-serial {display: flex;flex-direction: column;align-items: center;background-color: white;padding-right: 0.2em;padding-left: 0.2em;position: relative;}#sk-container-id-9 div.sk-item {position: relative;z-index: 1;}#sk-container-id-9 div.sk-parallel {display: flex;align-items: stretch;justify-content: center;background-color: white;position: relative;}#sk-container-id-9 div.sk-item::before, #sk-container-id-9 div.sk-parallel-item::before {content: \"\";position: absolute;border-left: 1px solid gray;box-sizing: border-box;top: 0;bottom: 0;left: 50%;z-index: -1;}#sk-container-id-9 div.sk-parallel-item {display: flex;flex-direction: column;z-index: 1;position: relative;background-color: white;}#sk-container-id-9 div.sk-parallel-item:first-child::after {align-self: flex-end;width: 50%;}#sk-container-id-9 div.sk-parallel-item:last-child::after {align-self: flex-start;width: 50%;}#sk-container-id-9 div.sk-parallel-item:only-child::after {width: 0;}#sk-container-id-9 div.sk-dashed-wrapped {border: 1px dashed gray;margin: 0 0.4em 0.5em 0.4em;box-sizing: border-box;padding-bottom: 0.4em;background-color: white;}#sk-container-id-9 div.sk-label label {font-family: monospace;font-weight: bold;display: inline-block;line-height: 1.2em;}#sk-container-id-9 div.sk-label-container {text-align: center;}#sk-container-id-9 div.sk-container {/* jupyter's `normalize.less` sets `[hidden] { display: none; }` but bootstrap.min.css set `[hidden] { display: none !important; }` so we also need the `!important` here to be able to override the default hidden behavior on the sphinx rendered scikit-learn.org. See: https://github.com/scikit-learn/scikit-learn/issues/21755 */display: inline-block !important;position: relative;}#sk-container-id-9 div.sk-text-repr-fallback {display: none;}</style><div id=\"sk-container-id-9\" class=\"sk-top-container\"><div class=\"sk-text-repr-fallback\"><pre>RandomForestRegressor()</pre><b>In a Jupyter environment, please rerun this cell to show the HTML representation or trust the notebook. <br />On GitHub, the HTML representation is unable to render, please try loading this page with nbviewer.org.</b></div><div class=\"sk-container\" hidden><div class=\"sk-item\"><div class=\"sk-estimator sk-toggleable\"><input class=\"sk-toggleable__control sk-hidden--visually\" id=\"sk-estimator-id-9\" type=\"checkbox\" checked><label for=\"sk-estimator-id-9\" class=\"sk-toggleable__label sk-toggleable__label-arrow\">RandomForestRegressor</label><div class=\"sk-toggleable__content\"><pre>RandomForestRegressor()</pre></div></div></div></div></div>"
            ]
          },
          "metadata": {},
          "execution_count": 391
        }
      ]
    },
    {
      "cell_type": "code",
      "source": [
        "model.score(X_train, y_train)"
      ],
      "metadata": {
        "colab": {
          "base_uri": "https://localhost:8080/"
        },
        "id": "ag487G9gX-7-",
        "outputId": "037ea13b-48cf-4a51-e150-3d2fba81550e"
      },
      "execution_count": 392,
      "outputs": [
        {
          "output_type": "execute_result",
          "data": {
            "text/plain": [
              "0.9881147686194423"
            ]
          },
          "metadata": {},
          "execution_count": 392
        }
      ]
    },
    {
      "cell_type": "code",
      "source": [
        "y_pred = model.predict(X_test)"
      ],
      "metadata": {
        "id": "5xjPz1L7X-12"
      },
      "execution_count": 393,
      "outputs": []
    },
    {
      "cell_type": "code",
      "source": [
        "mse = mean_squared_error(y_test, y_pred)\n",
        "r2_square = r2_score(y_test,y_pred)\n",
        "print(f\" R-squared: {r2_square}\")\n",
        "print(f'Mean Squared Error: {mse}')"
      ],
      "metadata": {
        "colab": {
          "base_uri": "https://localhost:8080/"
        },
        "id": "iC8Yc1QRX-tg",
        "outputId": "433630b8-6c7e-42c1-d2e8-627d27a69999"
      },
      "execution_count": 394,
      "outputs": [
        {
          "output_type": "stream",
          "name": "stdout",
          "text": [
            " R-squared: 0.9538389140378949\n",
            "Mean Squared Error: 0.05737862890848566\n"
          ]
        }
      ]
    },
    {
      "cell_type": "markdown",
      "source": [
        "# **Automation for Hyperparameter Tuning**"
      ],
      "metadata": {
        "id": "kDnKpDuUgtod"
      }
    },
    {
      "cell_type": "code",
      "source": [
        "def objective(trial):\n",
        "    n_estimators = trial.suggest_int('n_estimators', 100, 1000)\n",
        "    max_depth = trial.suggest_int('max_depth', 10, 50)\n",
        "    min_samples_split = trial.suggest_int('min_samples_split', 2, 30)\n",
        "    min_samples_leaf = trial.suggest_int('min_samples_leaf', 1, 20)\n",
        "\n",
        "    model = RandomForestRegressor(n_estimators=n_estimators, max_depth=max_depth,\n",
        "                                 min_samples_split=min_samples_split, min_samples_leaf=min_samples_leaf)\n",
        "\n",
        "    score = cross_val_score(model, X_train, y_train, cv=5, scoring='neg_mean_squared_error', n_jobs=-1)\n",
        "\n",
        "    return score.mean()"
      ],
      "metadata": {
        "id": "nLWnVFwZSz2t"
      },
      "execution_count": 395,
      "outputs": []
    },
    {
      "cell_type": "code",
      "source": [
        "study = optuna.create_study(direction='maximize', sampler=optuna.samplers.RandomSampler(seed=42))"
      ],
      "metadata": {
        "colab": {
          "base_uri": "https://localhost:8080/"
        },
        "id": "JFrovhsOSzw4",
        "outputId": "5d4c6e8d-507a-4c13-f968-479c328ca13d"
      },
      "execution_count": 396,
      "outputs": [
        {
          "output_type": "stream",
          "name": "stderr",
          "text": [
            "[I 2024-03-03 18:44:44,013] A new study created in memory with name: no-name-e93f095c-3821-49d1-9e1b-9ce6bd4dc80d\n"
          ]
        }
      ]
    },
    {
      "cell_type": "code",
      "source": [
        "study.optimize(objective, n_trials=100)"
      ],
      "metadata": {
        "colab": {
          "base_uri": "https://localhost:8080/"
        },
        "id": "H5cvnKJgSztU",
        "outputId": "c7def25c-7faa-4331-84b3-16804b32885c"
      },
      "execution_count": 397,
      "outputs": [
        {
          "output_type": "stream",
          "name": "stderr",
          "text": [
            "[I 2024-03-03 18:44:50,357] Trial 0 finished with value: -0.27814573210076976 and parameters: {'n_estimators': 437, 'max_depth': 48, 'min_samples_split': 23, 'min_samples_leaf': 12}. Best is trial 0 with value: -0.27814573210076976.\n",
            "[I 2024-03-03 18:44:51,779] Trial 1 finished with value: -0.36677193806695596 and parameters: {'n_estimators': 240, 'max_depth': 16, 'min_samples_split': 3, 'min_samples_leaf': 18}. Best is trial 0 with value: -0.27814573210076976.\n",
            "[I 2024-03-03 18:44:55,538] Trial 2 finished with value: -0.38435164749872824 and parameters: {'n_estimators': 641, 'max_depth': 39, 'min_samples_split': 2, 'min_samples_leaf': 20}. Best is trial 0 with value: -0.27814573210076976.\n",
            "[I 2024-03-03 18:45:02,276] Trial 3 finished with value: -0.10130587342120467 and parameters: {'n_estimators': 850, 'max_depth': 18, 'min_samples_split': 7, 'min_samples_leaf': 4}. Best is trial 3 with value: -0.10130587342120467.\n",
            "[I 2024-03-03 18:45:05,446] Trial 4 finished with value: -0.13579202391858924 and parameters: {'n_estimators': 374, 'max_depth': 31, 'min_samples_split': 14, 'min_samples_leaf': 6}. Best is trial 3 with value: -0.10130587342120467.\n",
            "[I 2024-03-03 18:45:09,543] Trial 5 finished with value: -0.20091024543620692 and parameters: {'n_estimators': 651, 'max_depth': 15, 'min_samples_split': 10, 'min_samples_leaf': 8}. Best is trial 3 with value: -0.10130587342120467.\n",
            "[I 2024-03-03 18:45:12,684] Trial 6 finished with value: -0.2618087788763922 and parameters: {'n_estimators': 510, 'max_depth': 42, 'min_samples_split': 7, 'min_samples_leaf': 11}. Best is trial 3 with value: -0.10130587342120467.\n",
            "[I 2024-03-03 18:45:18,625] Trial 7 finished with value: -0.11143723817119451 and parameters: {'n_estimators': 633, 'max_depth': 11, 'min_samples_split': 19, 'min_samples_leaf': 4}. Best is trial 3 with value: -0.10130587342120467.\n",
            "[I 2024-03-03 18:45:19,608] Trial 8 finished with value: -0.35943639182257103 and parameters: {'n_estimators': 158, 'max_depth': 48, 'min_samples_split': 30, 'min_samples_leaf': 17}. Best is trial 3 with value: -0.10130587342120467.\n",
            "[I 2024-03-03 18:45:22,022] Trial 9 finished with value: -0.22776151902665517 and parameters: {'n_estimators': 374, 'max_depth': 14, 'min_samples_split': 21, 'min_samples_leaf': 9}. Best is trial 3 with value: -0.10130587342120467.\n",
            "[I 2024-03-03 18:45:23,285] Trial 10 finished with value: -0.3796567595135133 and parameters: {'n_estimators': 209, 'max_depth': 30, 'min_samples_split': 2, 'min_samples_leaf': 19}. Best is trial 3 with value: -0.10130587342120467.\n",
            "[I 2024-03-03 18:45:25,372] Trial 11 finished with value: -0.2624205857096379 and parameters: {'n_estimators': 333, 'max_depth': 37, 'min_samples_split': 11, 'min_samples_leaf': 11}. Best is trial 3 with value: -0.10130587342120467.\n",
            "[I 2024-03-03 18:45:29,213] Trial 12 finished with value: -0.34296628933103024 and parameters: {'n_estimators': 592, 'max_depth': 17, 'min_samples_split': 30, 'min_samples_leaf': 16}. Best is trial 3 with value: -0.10130587342120467.\n",
            "[I 2024-03-03 18:45:36,039] Trial 13 finished with value: -0.37838251319211286 and parameters: {'n_estimators': 946, 'max_depth': 46, 'min_samples_split': 19, 'min_samples_leaf': 19}. Best is trial 3 with value: -0.10130587342120467.\n",
            "[I 2024-03-03 18:45:37,224] Trial 14 finished with value: -0.16098974724530044 and parameters: {'n_estimators': 179, 'max_depth': 18, 'min_samples_split': 3, 'min_samples_leaf': 7}. Best is trial 3 with value: -0.10130587342120467.\n",
            "[I 2024-03-03 18:45:39,968] Trial 15 finished with value: -0.20373191591248227 and parameters: {'n_estimators': 450, 'max_depth': 21, 'min_samples_split': 26, 'min_samples_leaf': 8}. Best is trial 3 with value: -0.10130587342120467.\n",
            "[I 2024-03-03 18:45:42,029] Trial 16 finished with value: -0.35943489560824593 and parameters: {'n_estimators': 353, 'max_depth': 32, 'min_samples_split': 6, 'min_samples_leaf': 17}. Best is trial 3 with value: -0.10130587342120467.\n",
            "[I 2024-03-03 18:45:43,645] Trial 17 finished with value: -0.1201252839367859 and parameters: {'n_estimators': 167, 'max_depth': 50, 'min_samples_split': 24, 'min_samples_leaf': 4}. Best is trial 3 with value: -0.10130587342120467.\n",
            "[I 2024-03-03 18:45:44,649] Trial 18 finished with value: -0.32580784373849486 and parameters: {'n_estimators': 104, 'max_depth': 43, 'min_samples_split': 22, 'min_samples_leaf': 15}. Best is trial 3 with value: -0.10130587342120467.\n",
            "[I 2024-03-03 18:45:51,103] Trial 19 finished with value: -0.09899872422443909 and parameters: {'n_estimators': 794, 'max_depth': 13, 'min_samples_split': 12, 'min_samples_leaf': 3}. Best is trial 19 with value: -0.09899872422443909.\n",
            "[I 2024-03-03 18:45:57,254] Trial 20 finished with value: -0.0977410815368525 and parameters: {'n_estimators': 877, 'max_depth': 35, 'min_samples_split': 11, 'min_samples_leaf': 2}. Best is trial 20 with value: -0.0977410815368525.\n",
            "[I 2024-03-03 18:46:01,174] Trial 21 finished with value: -0.2937325621403975 and parameters: {'n_estimators': 380, 'max_depth': 23, 'min_samples_split': 23, 'min_samples_leaf': 13}. Best is trial 20 with value: -0.0977410815368525.\n",
            "[I 2024-03-03 18:46:06,423] Trial 22 finished with value: -0.323564650902921 and parameters: {'n_estimators': 899, 'max_depth': 29, 'min_samples_split': 5, 'min_samples_leaf': 15}. Best is trial 20 with value: -0.0977410815368525.\n",
            "[I 2024-03-03 18:46:11,227] Trial 23 finished with value: -0.25211366046410694 and parameters: {'n_estimators': 785, 'max_depth': 33, 'min_samples_split': 24, 'min_samples_leaf': 10}. Best is trial 20 with value: -0.0977410815368525.\n",
            "[I 2024-03-03 18:46:17,018] Trial 24 finished with value: -0.0951395886879371 and parameters: {'n_estimators': 570, 'max_depth': 27, 'min_samples_split': 2, 'min_samples_leaf': 3}. Best is trial 24 with value: -0.0951395886879371.\n",
            "[I 2024-03-03 18:46:17,832] Trial 25 finished with value: -0.25808618516192194 and parameters: {'n_estimators': 128, 'max_depth': 36, 'min_samples_split': 11, 'min_samples_leaf': 11}. Best is trial 24 with value: -0.0951395886879371.\n",
            "[I 2024-03-03 18:46:23,188] Trial 26 finished with value: -0.3425336281084815 and parameters: {'n_estimators': 917, 'max_depth': 20, 'min_samples_split': 13, 'min_samples_leaf': 16}. Best is trial 24 with value: -0.0951395886879371.\n",
            "[I 2024-03-03 18:46:25,296] Trial 27 finished with value: -0.10330184183879298 and parameters: {'n_estimators': 306, 'max_depth': 13, 'min_samples_split': 10, 'min_samples_leaf': 4}. Best is trial 24 with value: -0.0951395886879371.\n",
            "[I 2024-03-03 18:46:32,544] Trial 28 finished with value: -0.3709387308230124 and parameters: {'n_estimators': 937, 'max_depth': 43, 'min_samples_split': 20, 'min_samples_leaf': 18}. Best is trial 24 with value: -0.0951395886879371.\n",
            "[I 2024-03-03 18:46:37,430] Trial 29 finished with value: -0.2686830250980725 and parameters: {'n_estimators': 824, 'max_depth': 17, 'min_samples_split': 27, 'min_samples_leaf': 11}. Best is trial 24 with value: -0.0951395886879371.\n",
            "[I 2024-03-03 18:46:44,761] Trial 30 finished with value: -0.0990292063982462 and parameters: {'n_estimators': 827, 'max_depth': 46, 'min_samples_split': 11, 'min_samples_leaf': 3}. Best is trial 24 with value: -0.0951395886879371.\n",
            "[I 2024-03-03 18:46:46,543] Trial 31 finished with value: -0.3711776957785163 and parameters: {'n_estimators': 305, 'max_depth': 27, 'min_samples_split': 25, 'min_samples_leaf': 18}. Best is trial 24 with value: -0.0951395886879371.\n",
            "[I 2024-03-03 18:46:47,282] Trial 32 finished with value: -0.11500224541696431 and parameters: {'n_estimators': 106, 'max_depth': 30, 'min_samples_split': 14, 'min_samples_leaf': 5}. Best is trial 24 with value: -0.0951395886879371.\n",
            "[I 2024-03-03 18:46:48,561] Trial 33 finished with value: -0.18538771891737543 and parameters: {'n_estimators': 207, 'max_depth': 23, 'min_samples_split': 29, 'min_samples_leaf': 7}. Best is trial 24 with value: -0.0951395886879371.\n",
            "[I 2024-03-03 18:46:51,774] Trial 34 finished with value: -0.385610598858639 and parameters: {'n_estimators': 567, 'max_depth': 38, 'min_samples_split': 12, 'min_samples_leaf': 20}. Best is trial 24 with value: -0.0951395886879371.\n",
            "[I 2024-03-03 18:46:59,692] Trial 35 finished with value: -0.16999814477865355 and parameters: {'n_estimators': 967, 'max_depth': 20, 'min_samples_split': 16, 'min_samples_leaf': 7}. Best is trial 24 with value: -0.0951395886879371.\n",
            "[I 2024-03-03 18:47:01,843] Trial 36 finished with value: -0.26269113307372194 and parameters: {'n_estimators': 356, 'max_depth': 11, 'min_samples_split': 19, 'min_samples_leaf': 11}. Best is trial 24 with value: -0.0951395886879371.\n",
            "[I 2024-03-03 18:47:02,786] Trial 37 finished with value: -0.12755460185652528 and parameters: {'n_estimators': 146, 'max_depth': 21, 'min_samples_split': 28, 'min_samples_leaf': 5}. Best is trial 24 with value: -0.0951395886879371.\n",
            "[I 2024-03-03 18:47:04,228] Trial 38 finished with value: -0.13774973437699536 and parameters: {'n_estimators': 230, 'max_depth': 30, 'min_samples_split': 30, 'min_samples_leaf': 5}. Best is trial 24 with value: -0.0951395886879371.\n",
            "[I 2024-03-03 18:47:08,380] Trial 39 finished with value: -0.3245668146057383 and parameters: {'n_estimators': 705, 'max_depth': 41, 'min_samples_split': 8, 'min_samples_leaf': 15}. Best is trial 24 with value: -0.0951395886879371.\n",
            "[I 2024-03-03 18:47:12,534] Trial 40 finished with value: -0.2640565567761829 and parameters: {'n_estimators': 431, 'max_depth': 35, 'min_samples_split': 20, 'min_samples_leaf': 11}. Best is trial 24 with value: -0.0951395886879371.\n",
            "[I 2024-03-03 18:47:13,956] Trial 41 finished with value: -0.10353498670809087 and parameters: {'n_estimators': 181, 'max_depth': 44, 'min_samples_split': 11, 'min_samples_leaf': 4}. Best is trial 24 with value: -0.0951395886879371.\n",
            "[I 2024-03-03 18:47:14,881] Trial 42 finished with value: -0.107170574381076 and parameters: {'n_estimators': 136, 'max_depth': 34, 'min_samples_split': 21, 'min_samples_leaf': 1}. Best is trial 24 with value: -0.0951395886879371.\n",
            "[I 2024-03-03 18:47:18,553] Trial 43 finished with value: -0.11307853708460294 and parameters: {'n_estimators': 561, 'max_depth': 19, 'min_samples_split': 20, 'min_samples_leaf': 4}. Best is trial 24 with value: -0.0951395886879371.\n",
            "[I 2024-03-03 18:47:23,182] Trial 44 finished with value: -0.12069319910729197 and parameters: {'n_estimators': 722, 'max_depth': 25, 'min_samples_split': 29, 'min_samples_leaf': 3}. Best is trial 24 with value: -0.0951395886879371.\n",
            "[I 2024-03-03 18:47:27,236] Trial 45 finished with value: -0.3700930307076836 and parameters: {'n_estimators': 407, 'max_depth': 14, 'min_samples_split': 28, 'min_samples_leaf': 18}. Best is trial 24 with value: -0.0951395886879371.\n",
            "[I 2024-03-03 18:47:29,263] Trial 46 finished with value: -0.274876736211668 and parameters: {'n_estimators': 332, 'max_depth': 37, 'min_samples_split': 25, 'min_samples_leaf': 12}. Best is trial 24 with value: -0.0951395886879371.\n",
            "[I 2024-03-03 18:47:32,577] Trial 47 finished with value: -0.3714249837201654 and parameters: {'n_estimators': 577, 'max_depth': 19, 'min_samples_split': 4, 'min_samples_leaf': 18}. Best is trial 24 with value: -0.0951395886879371.\n",
            "[I 2024-03-03 18:47:39,111] Trial 48 finished with value: -0.16589031635997525 and parameters: {'n_estimators': 911, 'max_depth': 35, 'min_samples_split': 11, 'min_samples_leaf': 7}. Best is trial 24 with value: -0.0951395886879371.\n",
            "[I 2024-03-03 18:47:44,364] Trial 49 finished with value: -0.34339305015336175 and parameters: {'n_estimators': 754, 'max_depth': 46, 'min_samples_split': 27, 'min_samples_leaf': 16}. Best is trial 24 with value: -0.0951395886879371.\n",
            "[I 2024-03-03 18:47:48,252] Trial 50 finished with value: -0.371253869900478 and parameters: {'n_estimators': 678, 'max_depth': 13, 'min_samples_split': 6, 'min_samples_leaf': 18}. Best is trial 24 with value: -0.0951395886879371.\n",
            "[I 2024-03-03 18:47:52,478] Trial 51 finished with value: -0.3065081218997005 and parameters: {'n_estimators': 646, 'max_depth': 10, 'min_samples_split': 4, 'min_samples_leaf': 14}. Best is trial 24 with value: -0.0951395886879371.\n",
            "[I 2024-03-03 18:47:53,571] Trial 52 finished with value: -0.3045401680256855 and parameters: {'n_estimators': 104, 'max_depth': 16, 'min_samples_split': 17, 'min_samples_leaf': 14}. Best is trial 24 with value: -0.0951395886879371.\n",
            "[I 2024-03-03 18:47:58,739] Trial 53 finished with value: -0.12309484890554642 and parameters: {'n_estimators': 687, 'max_depth': 19, 'min_samples_split': 22, 'min_samples_leaf': 5}. Best is trial 24 with value: -0.0951395886879371.\n",
            "[I 2024-03-03 18:48:01,024] Trial 54 finished with value: -0.35736688748926715 and parameters: {'n_estimators': 393, 'max_depth': 40, 'min_samples_split': 20, 'min_samples_leaf': 17}. Best is trial 24 with value: -0.0951395886879371.\n",
            "[I 2024-03-03 18:48:05,389] Trial 55 finished with value: -0.19856554482680816 and parameters: {'n_estimators': 692, 'max_depth': 33, 'min_samples_split': 4, 'min_samples_leaf': 8}. Best is trial 24 with value: -0.0951395886879371.\n",
            "[I 2024-03-03 18:48:08,699] Trial 56 finished with value: -0.22305664274380305 and parameters: {'n_estimators': 338, 'max_depth': 20, 'min_samples_split': 30, 'min_samples_leaf': 8}. Best is trial 24 with value: -0.0951395886879371.\n",
            "[I 2024-03-03 18:48:14,636] Trial 57 finished with value: -0.2657780316203405 and parameters: {'n_estimators': 903, 'max_depth': 35, 'min_samples_split': 25, 'min_samples_leaf': 11}. Best is trial 24 with value: -0.0951395886879371.\n",
            "[I 2024-03-03 18:48:18,301] Trial 58 finished with value: -0.3220013202058719 and parameters: {'n_estimators': 619, 'max_depth': 30, 'min_samples_split': 7, 'min_samples_leaf': 15}. Best is trial 24 with value: -0.0951395886879371.\n",
            "[I 2024-03-03 18:48:23,608] Trial 59 finished with value: -0.11162608037006234 and parameters: {'n_estimators': 352, 'max_depth': 10, 'min_samples_split': 20, 'min_samples_leaf': 4}. Best is trial 24 with value: -0.0951395886879371.\n",
            "[I 2024-03-03 18:48:32,127] Trial 60 finished with value: -0.21461615700567024 and parameters: {'n_estimators': 947, 'max_depth': 49, 'min_samples_split': 28, 'min_samples_leaf': 8}. Best is trial 24 with value: -0.0951395886879371.\n",
            "[I 2024-03-03 18:48:32,814] Trial 61 finished with value: -0.38864295272410676 and parameters: {'n_estimators': 113, 'max_depth': 48, 'min_samples_split': 14, 'min_samples_leaf': 20}. Best is trial 24 with value: -0.0951395886879371.\n",
            "[I 2024-03-03 18:48:40,712] Trial 62 finished with value: -0.1980059900571592 and parameters: {'n_estimators': 968, 'max_depth': 44, 'min_samples_split': 10, 'min_samples_leaf': 8}. Best is trial 24 with value: -0.0951395886879371.\n",
            "[I 2024-03-03 18:48:45,937] Trial 63 finished with value: -0.2757874156252204 and parameters: {'n_estimators': 866, 'max_depth': 22, 'min_samples_split': 6, 'min_samples_leaf': 12}. Best is trial 24 with value: -0.0951395886879371.\n",
            "[I 2024-03-03 18:48:53,821] Trial 64 finished with value: -0.10537092553392982 and parameters: {'n_estimators': 943, 'max_depth': 38, 'min_samples_split': 18, 'min_samples_leaf': 2}. Best is trial 24 with value: -0.0951395886879371.\n",
            "[I 2024-03-03 18:48:57,826] Trial 65 finished with value: -0.2609819166325997 and parameters: {'n_estimators': 654, 'max_depth': 50, 'min_samples_split': 6, 'min_samples_leaf': 11}. Best is trial 24 with value: -0.0951395886879371.\n",
            "[I 2024-03-03 18:49:03,015] Trial 66 finished with value: -0.32243097815116173 and parameters: {'n_estimators': 890, 'max_depth': 40, 'min_samples_split': 22, 'min_samples_leaf': 15}. Best is trial 24 with value: -0.0951395886879371.\n",
            "[I 2024-03-03 18:49:06,705] Trial 67 finished with value: -0.3613788617495643 and parameters: {'n_estimators': 423, 'max_depth': 22, 'min_samples_split': 25, 'min_samples_leaf': 17}. Best is trial 24 with value: -0.0951395886879371.\n",
            "[I 2024-03-03 18:49:12,681] Trial 68 finished with value: -0.2624212241733281 and parameters: {'n_estimators': 881, 'max_depth': 47, 'min_samples_split': 16, 'min_samples_leaf': 11}. Best is trial 24 with value: -0.0951395886879371.\n",
            "[I 2024-03-03 18:49:17,477] Trial 69 finished with value: -0.34168055208594494 and parameters: {'n_estimators': 819, 'max_depth': 36, 'min_samples_split': 22, 'min_samples_leaf': 16}. Best is trial 24 with value: -0.0951395886879371.\n",
            "[I 2024-03-03 18:49:25,580] Trial 70 finished with value: -0.09955484278549603 and parameters: {'n_estimators': 901, 'max_depth': 23, 'min_samples_split': 12, 'min_samples_leaf': 2}. Best is trial 24 with value: -0.0951395886879371.\n",
            "[I 2024-03-03 18:49:29,416] Trial 71 finished with value: -0.26271196276318914 and parameters: {'n_estimators': 621, 'max_depth': 11, 'min_samples_split': 15, 'min_samples_leaf': 11}. Best is trial 24 with value: -0.0951395886879371.\n",
            "[I 2024-03-03 18:49:32,451] Trial 72 finished with value: -0.08878157923425314 and parameters: {'n_estimators': 358, 'max_depth': 34, 'min_samples_split': 2, 'min_samples_leaf': 1}. Best is trial 72 with value: -0.08878157923425314.\n",
            "[I 2024-03-03 18:49:39,544] Trial 73 finished with value: -0.26136568762633694 and parameters: {'n_estimators': 841, 'max_depth': 24, 'min_samples_split': 5, 'min_samples_leaf': 11}. Best is trial 72 with value: -0.08878157923425314.\n",
            "[I 2024-03-03 18:49:44,737] Trial 74 finished with value: -0.10644533564677153 and parameters: {'n_estimators': 793, 'max_depth': 18, 'min_samples_split': 20, 'min_samples_leaf': 2}. Best is trial 72 with value: -0.08878157923425314.\n",
            "[I 2024-03-03 18:49:45,660] Trial 75 finished with value: -0.287297073122201 and parameters: {'n_estimators': 146, 'max_depth': 31, 'min_samples_split': 17, 'min_samples_leaf': 13}. Best is trial 72 with value: -0.08878157923425314.\n",
            "[I 2024-03-03 18:49:52,364] Trial 76 finished with value: -0.16656761048105945 and parameters: {'n_estimators': 754, 'max_depth': 50, 'min_samples_split': 16, 'min_samples_leaf': 7}. Best is trial 72 with value: -0.08878157923425314.\n",
            "[I 2024-03-03 18:49:57,835] Trial 77 finished with value: -0.10049025921482486 and parameters: {'n_estimators': 816, 'max_depth': 21, 'min_samples_split': 14, 'min_samples_leaf': 2}. Best is trial 72 with value: -0.08878157923425314.\n",
            "[I 2024-03-03 18:49:58,587] Trial 78 finished with value: -0.3048232948890833 and parameters: {'n_estimators': 122, 'max_depth': 49, 'min_samples_split': 26, 'min_samples_leaf': 14}. Best is trial 72 with value: -0.08878157923425314.\n",
            "[I 2024-03-03 18:50:01,804] Trial 79 finished with value: -0.13153560446379914 and parameters: {'n_estimators': 468, 'max_depth': 17, 'min_samples_split': 6, 'min_samples_leaf': 6}. Best is trial 72 with value: -0.08878157923425314.\n",
            "[I 2024-03-03 18:50:07,166] Trial 80 finished with value: -0.13898609764639022 and parameters: {'n_estimators': 594, 'max_depth': 39, 'min_samples_split': 21, 'min_samples_leaf': 6}. Best is trial 72 with value: -0.08878157923425314.\n",
            "[I 2024-03-03 18:50:12,903] Trial 81 finished with value: -0.29010749181791323 and parameters: {'n_estimators': 960, 'max_depth': 40, 'min_samples_split': 18, 'min_samples_leaf': 13}. Best is trial 72 with value: -0.08878157923425314.\n",
            "[I 2024-03-03 18:50:15,755] Trial 82 finished with value: -0.3442620809298097 and parameters: {'n_estimators': 478, 'max_depth': 20, 'min_samples_split': 12, 'min_samples_leaf': 16}. Best is trial 72 with value: -0.08878157923425314.\n",
            "[I 2024-03-03 18:50:17,348] Trial 83 finished with value: -0.09001014785221528 and parameters: {'n_estimators': 112, 'max_depth': 14, 'min_samples_split': 3, 'min_samples_leaf': 1}. Best is trial 72 with value: -0.08878157923425314.\n",
            "[I 2024-03-03 18:50:24,254] Trial 84 finished with value: -0.10087585943036852 and parameters: {'n_estimators': 870, 'max_depth': 38, 'min_samples_split': 15, 'min_samples_leaf': 2}. Best is trial 72 with value: -0.08878157923425314.\n",
            "[I 2024-03-03 18:50:27,659] Trial 85 finished with value: -0.22941883645166747 and parameters: {'n_estimators': 542, 'max_depth': 29, 'min_samples_split': 7, 'min_samples_leaf': 9}. Best is trial 72 with value: -0.08878157923425314.\n",
            "[I 2024-03-03 18:50:31,197] Trial 86 finished with value: -0.10646009224512223 and parameters: {'n_estimators': 459, 'max_depth': 35, 'min_samples_split': 20, 'min_samples_leaf': 1}. Best is trial 72 with value: -0.08878157923425314.\n",
            "[I 2024-03-03 18:50:35,064] Trial 87 finished with value: -0.3745809400449385 and parameters: {'n_estimators': 437, 'max_depth': 35, 'min_samples_split': 16, 'min_samples_leaf': 18}. Best is trial 72 with value: -0.08878157923425314.\n",
            "[I 2024-03-03 18:50:39,206] Trial 88 finished with value: -0.2894756816360368 and parameters: {'n_estimators': 693, 'max_depth': 16, 'min_samples_split': 4, 'min_samples_leaf': 13}. Best is trial 72 with value: -0.08878157923425314.\n",
            "[I 2024-03-03 18:50:39,969] Trial 89 finished with value: -0.28420237981116525 and parameters: {'n_estimators': 123, 'max_depth': 34, 'min_samples_split': 29, 'min_samples_leaf': 12}. Best is trial 72 with value: -0.08878157923425314.\n",
            "[I 2024-03-03 18:50:42,730] Trial 90 finished with value: -0.26159072095555846 and parameters: {'n_estimators': 449, 'max_depth': 36, 'min_samples_split': 15, 'min_samples_leaf': 11}. Best is trial 72 with value: -0.08878157923425314.\n",
            "[I 2024-03-03 18:50:50,161] Trial 91 finished with value: -0.38032683407472645 and parameters: {'n_estimators': 948, 'max_depth': 25, 'min_samples_split': 29, 'min_samples_leaf': 19}. Best is trial 72 with value: -0.08878157923425314.\n",
            "[I 2024-03-03 18:50:52,330] Trial 92 finished with value: -0.08984557446927338 and parameters: {'n_estimators': 276, 'max_depth': 12, 'min_samples_split': 4, 'min_samples_leaf': 1}. Best is trial 72 with value: -0.08878157923425314.\n",
            "[I 2024-03-03 18:50:53,597] Trial 93 finished with value: -0.16998771177622657 and parameters: {'n_estimators': 185, 'max_depth': 38, 'min_samples_split': 4, 'min_samples_leaf': 7}. Best is trial 72 with value: -0.08878157923425314.\n",
            "[I 2024-03-03 18:50:59,079] Trial 94 finished with value: -0.1434817902207564 and parameters: {'n_estimators': 861, 'max_depth': 10, 'min_samples_split': 25, 'min_samples_leaf': 6}. Best is trial 72 with value: -0.08878157923425314.\n",
            "[I 2024-03-03 18:51:01,165] Trial 95 finished with value: -0.3673025855911793 and parameters: {'n_estimators': 206, 'max_depth': 38, 'min_samples_split': 20, 'min_samples_leaf': 18}. Best is trial 72 with value: -0.08878157923425314.\n",
            "[I 2024-03-03 18:51:07,175] Trial 96 finished with value: -0.10341209983863975 and parameters: {'n_estimators': 762, 'max_depth': 42, 'min_samples_split': 10, 'min_samples_leaf': 4}. Best is trial 72 with value: -0.08878157923425314.\n",
            "[I 2024-03-03 18:51:11,822] Trial 97 finished with value: -0.24588965908025145 and parameters: {'n_estimators': 776, 'max_depth': 43, 'min_samples_split': 30, 'min_samples_leaf': 9}. Best is trial 72 with value: -0.08878157923425314.\n",
            "[I 2024-03-03 18:51:15,074] Trial 98 finished with value: -0.37778171722504733 and parameters: {'n_estimators': 435, 'max_depth': 41, 'min_samples_split': 11, 'min_samples_leaf': 19}. Best is trial 72 with value: -0.08878157923425314.\n",
            "[I 2024-03-03 18:51:21,288] Trial 99 finished with value: -0.34468325600028027 and parameters: {'n_estimators': 873, 'max_depth': 27, 'min_samples_split': 23, 'min_samples_leaf': 16}. Best is trial 72 with value: -0.08878157923425314.\n"
          ]
        }
      ]
    },
    {
      "cell_type": "code",
      "source": [
        "study.best_params"
      ],
      "metadata": {
        "colab": {
          "base_uri": "https://localhost:8080/"
        },
        "id": "ZymTZ_-gSzmV",
        "outputId": "f78c45c6-55a0-4eb9-85a2-b5b586ac0cca"
      },
      "execution_count": 398,
      "outputs": [
        {
          "output_type": "execute_result",
          "data": {
            "text/plain": [
              "{'n_estimators': 358,\n",
              " 'max_depth': 34,\n",
              " 'min_samples_split': 2,\n",
              " 'min_samples_leaf': 1}"
            ]
          },
          "metadata": {},
          "execution_count": 398
        }
      ]
    },
    {
      "cell_type": "markdown",
      "source": [
        "# **OPTUNA VISUALIZATION**"
      ],
      "metadata": {
        "id": "--rmzrK-hQEq"
      }
    },
    {
      "cell_type": "code",
      "source": [
        "optuna.visualization.plot_optimization_history(study)\n",
        "optuna.visualization.plot_slice(study, params=['n_estimators', 'max_depth', 'min_samples_split', 'min_samples_leaf'])"
      ],
      "metadata": {
        "colab": {
          "base_uri": "https://localhost:8080/",
          "height": 542
        },
        "id": "9fmk6fsPcMzP",
        "outputId": "6675774f-fc07-4b99-96b7-6cbbd0ac6cc9"
      },
      "execution_count": 399,
      "outputs": [
        {
          "output_type": "display_data",
          "data": {
            "text/html": [
              "<html>\n",
              "<head><meta charset=\"utf-8\" /></head>\n",
              "<body>\n",
              "    <div>            <script src=\"https://cdnjs.cloudflare.com/ajax/libs/mathjax/2.7.5/MathJax.js?config=TeX-AMS-MML_SVG\"></script><script type=\"text/javascript\">if (window.MathJax && window.MathJax.Hub && window.MathJax.Hub.Config) {window.MathJax.Hub.Config({SVG: {font: \"STIX-Web\"}});}</script>                <script type=\"text/javascript\">window.PlotlyConfig = {MathJaxConfig: 'local'};</script>\n",
              "        <script charset=\"utf-8\" src=\"https://cdn.plot.ly/plotly-2.24.1.min.js\"></script>                <div id=\"b1a10072-3221-43d9-b48a-c26b23fb5ad9\" class=\"plotly-graph-div\" style=\"height:525px; width:1200px;\"></div>            <script type=\"text/javascript\">                                    window.PLOTLYENV=window.PLOTLYENV || {};                                    if (document.getElementById(\"b1a10072-3221-43d9-b48a-c26b23fb5ad9\")) {                    Plotly.newPlot(                        \"b1a10072-3221-43d9-b48a-c26b23fb5ad9\",                        [{\"marker\":{\"color\":[0,1,2,3,4,5,6,7,8,9,10,11,12,13,14,15,16,17,18,19,20,21,22,23,24,25,26,27,28,29,30,31,32,33,34,35,36,37,38,39,40,41,42,43,44,45,46,47,48,49,50,51,52,53,54,55,56,57,58,59,60,61,62,63,64,65,66,67,68,69,70,71,72,73,74,75,76,77,78,79,80,81,82,83,84,85,86,87,88,89,90,91,92,93,94,95,96,97,98,99],\"colorbar\":{\"title\":{\"text\":\"Trial\"},\"x\":1.0,\"xpad\":40},\"colorscale\":[[0.0,\"rgb(247,251,255)\"],[0.125,\"rgb(222,235,247)\"],[0.25,\"rgb(198,219,239)\"],[0.375,\"rgb(158,202,225)\"],[0.5,\"rgb(107,174,214)\"],[0.625,\"rgb(66,146,198)\"],[0.75,\"rgb(33,113,181)\"],[0.875,\"rgb(8,81,156)\"],[1.0,\"rgb(8,48,107)\"]],\"line\":{\"color\":\"Grey\",\"width\":0.5},\"showscale\":true},\"mode\":\"markers\",\"name\":\"Feasible Trial\",\"showlegend\":false,\"x\":[48,16,39,18,31,15,42,11,48,14,30,37,17,46,18,21,32,50,43,13,35,23,29,33,27,36,20,13,43,17,46,27,30,23,38,20,11,21,30,41,35,44,34,19,25,14,37,19,35,46,13,10,16,19,40,33,20,35,30,10,49,48,44,22,38,50,40,22,47,36,23,11,34,24,18,31,50,21,49,17,39,40,20,14,38,29,35,35,16,34,36,25,12,38,10,38,42,43,41,27],\"y\":[-0.27814573210076976,-0.36677193806695596,-0.38435164749872824,-0.10130587342120467,-0.13579202391858924,-0.20091024543620692,-0.2618087788763922,-0.11143723817119451,-0.35943639182257103,-0.22776151902665517,-0.3796567595135133,-0.2624205857096379,-0.34296628933103024,-0.37838251319211286,-0.16098974724530044,-0.20373191591248227,-0.35943489560824593,-0.1201252839367859,-0.32580784373849486,-0.09899872422443909,-0.0977410815368525,-0.2937325621403975,-0.323564650902921,-0.25211366046410694,-0.0951395886879371,-0.25808618516192194,-0.3425336281084815,-0.10330184183879298,-0.3709387308230124,-0.2686830250980725,-0.0990292063982462,-0.3711776957785163,-0.11500224541696431,-0.18538771891737543,-0.385610598858639,-0.16999814477865355,-0.26269113307372194,-0.12755460185652528,-0.13774973437699536,-0.3245668146057383,-0.2640565567761829,-0.10353498670809087,-0.107170574381076,-0.11307853708460294,-0.12069319910729197,-0.3700930307076836,-0.274876736211668,-0.3714249837201654,-0.16589031635997525,-0.34339305015336175,-0.371253869900478,-0.3065081218997005,-0.3045401680256855,-0.12309484890554642,-0.35736688748926715,-0.19856554482680816,-0.22305664274380305,-0.2657780316203405,-0.3220013202058719,-0.11162608037006234,-0.21461615700567024,-0.38864295272410676,-0.1980059900571592,-0.2757874156252204,-0.10537092553392982,-0.2609819166325997,-0.32243097815116173,-0.3613788617495643,-0.2624212241733281,-0.34168055208594494,-0.09955484278549603,-0.26271196276318914,-0.08878157923425314,-0.26136568762633694,-0.10644533564677153,-0.287297073122201,-0.16656761048105945,-0.10049025921482486,-0.3048232948890833,-0.13153560446379914,-0.13898609764639022,-0.29010749181791323,-0.3442620809298097,-0.09001014785221528,-0.10087585943036852,-0.22941883645166747,-0.10646009224512223,-0.3745809400449385,-0.2894756816360368,-0.28420237981116525,-0.26159072095555846,-0.38032683407472645,-0.08984557446927338,-0.16998771177622657,-0.1434817902207564,-0.3673025855911793,-0.10341209983863975,-0.24588965908025145,-0.37778171722504733,-0.34468325600028027],\"type\":\"scatter\",\"xaxis\":\"x\",\"yaxis\":\"y\"},{\"marker\":{\"color\":[0,1,2,3,4,5,6,7,8,9,10,11,12,13,14,15,16,17,18,19,20,21,22,23,24,25,26,27,28,29,30,31,32,33,34,35,36,37,38,39,40,41,42,43,44,45,46,47,48,49,50,51,52,53,54,55,56,57,58,59,60,61,62,63,64,65,66,67,68,69,70,71,72,73,74,75,76,77,78,79,80,81,82,83,84,85,86,87,88,89,90,91,92,93,94,95,96,97,98,99],\"colorbar\":{\"title\":{\"text\":\"Trial\"},\"x\":1.0,\"xpad\":40},\"colorscale\":[[0.0,\"rgb(247,251,255)\"],[0.125,\"rgb(222,235,247)\"],[0.25,\"rgb(198,219,239)\"],[0.375,\"rgb(158,202,225)\"],[0.5,\"rgb(107,174,214)\"],[0.625,\"rgb(66,146,198)\"],[0.75,\"rgb(33,113,181)\"],[0.875,\"rgb(8,81,156)\"],[1.0,\"rgb(8,48,107)\"]],\"line\":{\"color\":\"Grey\",\"width\":0.5},\"showscale\":false},\"mode\":\"markers\",\"name\":\"Feasible Trial\",\"showlegend\":false,\"x\":[12,18,20,4,6,8,11,4,17,9,19,11,16,19,7,8,17,4,15,3,2,13,15,10,3,11,16,4,18,11,3,18,5,7,20,7,11,5,5,15,11,4,1,4,3,18,12,18,7,16,18,14,14,5,17,8,8,11,15,4,8,20,8,12,2,11,15,17,11,16,2,11,1,11,2,13,7,2,14,6,6,13,16,1,2,9,1,18,13,12,11,19,1,7,6,18,4,9,19,16],\"y\":[-0.27814573210076976,-0.36677193806695596,-0.38435164749872824,-0.10130587342120467,-0.13579202391858924,-0.20091024543620692,-0.2618087788763922,-0.11143723817119451,-0.35943639182257103,-0.22776151902665517,-0.3796567595135133,-0.2624205857096379,-0.34296628933103024,-0.37838251319211286,-0.16098974724530044,-0.20373191591248227,-0.35943489560824593,-0.1201252839367859,-0.32580784373849486,-0.09899872422443909,-0.0977410815368525,-0.2937325621403975,-0.323564650902921,-0.25211366046410694,-0.0951395886879371,-0.25808618516192194,-0.3425336281084815,-0.10330184183879298,-0.3709387308230124,-0.2686830250980725,-0.0990292063982462,-0.3711776957785163,-0.11500224541696431,-0.18538771891737543,-0.385610598858639,-0.16999814477865355,-0.26269113307372194,-0.12755460185652528,-0.13774973437699536,-0.3245668146057383,-0.2640565567761829,-0.10353498670809087,-0.107170574381076,-0.11307853708460294,-0.12069319910729197,-0.3700930307076836,-0.274876736211668,-0.3714249837201654,-0.16589031635997525,-0.34339305015336175,-0.371253869900478,-0.3065081218997005,-0.3045401680256855,-0.12309484890554642,-0.35736688748926715,-0.19856554482680816,-0.22305664274380305,-0.2657780316203405,-0.3220013202058719,-0.11162608037006234,-0.21461615700567024,-0.38864295272410676,-0.1980059900571592,-0.2757874156252204,-0.10537092553392982,-0.2609819166325997,-0.32243097815116173,-0.3613788617495643,-0.2624212241733281,-0.34168055208594494,-0.09955484278549603,-0.26271196276318914,-0.08878157923425314,-0.26136568762633694,-0.10644533564677153,-0.287297073122201,-0.16656761048105945,-0.10049025921482486,-0.3048232948890833,-0.13153560446379914,-0.13898609764639022,-0.29010749181791323,-0.3442620809298097,-0.09001014785221528,-0.10087585943036852,-0.22941883645166747,-0.10646009224512223,-0.3745809400449385,-0.2894756816360368,-0.28420237981116525,-0.26159072095555846,-0.38032683407472645,-0.08984557446927338,-0.16998771177622657,-0.1434817902207564,-0.3673025855911793,-0.10341209983863975,-0.24588965908025145,-0.37778171722504733,-0.34468325600028027],\"type\":\"scatter\",\"xaxis\":\"x2\",\"yaxis\":\"y2\"},{\"marker\":{\"color\":[0,1,2,3,4,5,6,7,8,9,10,11,12,13,14,15,16,17,18,19,20,21,22,23,24,25,26,27,28,29,30,31,32,33,34,35,36,37,38,39,40,41,42,43,44,45,46,47,48,49,50,51,52,53,54,55,56,57,58,59,60,61,62,63,64,65,66,67,68,69,70,71,72,73,74,75,76,77,78,79,80,81,82,83,84,85,86,87,88,89,90,91,92,93,94,95,96,97,98,99],\"colorbar\":{\"title\":{\"text\":\"Trial\"},\"x\":1.0,\"xpad\":40},\"colorscale\":[[0.0,\"rgb(247,251,255)\"],[0.125,\"rgb(222,235,247)\"],[0.25,\"rgb(198,219,239)\"],[0.375,\"rgb(158,202,225)\"],[0.5,\"rgb(107,174,214)\"],[0.625,\"rgb(66,146,198)\"],[0.75,\"rgb(33,113,181)\"],[0.875,\"rgb(8,81,156)\"],[1.0,\"rgb(8,48,107)\"]],\"line\":{\"color\":\"Grey\",\"width\":0.5},\"showscale\":false},\"mode\":\"markers\",\"name\":\"Feasible Trial\",\"showlegend\":false,\"x\":[23,3,2,7,14,10,7,19,30,21,2,11,30,19,3,26,6,24,22,12,11,23,5,24,2,11,13,10,20,27,11,25,14,29,12,16,19,28,30,8,20,11,21,20,29,28,25,4,11,27,6,4,17,22,20,4,30,25,7,20,28,14,10,6,18,6,22,25,16,22,12,15,2,5,20,17,16,14,26,6,21,18,12,3,15,7,20,16,4,29,15,29,4,4,25,20,10,30,11,23],\"y\":[-0.27814573210076976,-0.36677193806695596,-0.38435164749872824,-0.10130587342120467,-0.13579202391858924,-0.20091024543620692,-0.2618087788763922,-0.11143723817119451,-0.35943639182257103,-0.22776151902665517,-0.3796567595135133,-0.2624205857096379,-0.34296628933103024,-0.37838251319211286,-0.16098974724530044,-0.20373191591248227,-0.35943489560824593,-0.1201252839367859,-0.32580784373849486,-0.09899872422443909,-0.0977410815368525,-0.2937325621403975,-0.323564650902921,-0.25211366046410694,-0.0951395886879371,-0.25808618516192194,-0.3425336281084815,-0.10330184183879298,-0.3709387308230124,-0.2686830250980725,-0.0990292063982462,-0.3711776957785163,-0.11500224541696431,-0.18538771891737543,-0.385610598858639,-0.16999814477865355,-0.26269113307372194,-0.12755460185652528,-0.13774973437699536,-0.3245668146057383,-0.2640565567761829,-0.10353498670809087,-0.107170574381076,-0.11307853708460294,-0.12069319910729197,-0.3700930307076836,-0.274876736211668,-0.3714249837201654,-0.16589031635997525,-0.34339305015336175,-0.371253869900478,-0.3065081218997005,-0.3045401680256855,-0.12309484890554642,-0.35736688748926715,-0.19856554482680816,-0.22305664274380305,-0.2657780316203405,-0.3220013202058719,-0.11162608037006234,-0.21461615700567024,-0.38864295272410676,-0.1980059900571592,-0.2757874156252204,-0.10537092553392982,-0.2609819166325997,-0.32243097815116173,-0.3613788617495643,-0.2624212241733281,-0.34168055208594494,-0.09955484278549603,-0.26271196276318914,-0.08878157923425314,-0.26136568762633694,-0.10644533564677153,-0.287297073122201,-0.16656761048105945,-0.10049025921482486,-0.3048232948890833,-0.13153560446379914,-0.13898609764639022,-0.29010749181791323,-0.3442620809298097,-0.09001014785221528,-0.10087585943036852,-0.22941883645166747,-0.10646009224512223,-0.3745809400449385,-0.2894756816360368,-0.28420237981116525,-0.26159072095555846,-0.38032683407472645,-0.08984557446927338,-0.16998771177622657,-0.1434817902207564,-0.3673025855911793,-0.10341209983863975,-0.24588965908025145,-0.37778171722504733,-0.34468325600028027],\"type\":\"scatter\",\"xaxis\":\"x3\",\"yaxis\":\"y3\"},{\"marker\":{\"color\":[0,1,2,3,4,5,6,7,8,9,10,11,12,13,14,15,16,17,18,19,20,21,22,23,24,25,26,27,28,29,30,31,32,33,34,35,36,37,38,39,40,41,42,43,44,45,46,47,48,49,50,51,52,53,54,55,56,57,58,59,60,61,62,63,64,65,66,67,68,69,70,71,72,73,74,75,76,77,78,79,80,81,82,83,84,85,86,87,88,89,90,91,92,93,94,95,96,97,98,99],\"colorbar\":{\"title\":{\"text\":\"Trial\"},\"x\":1.0,\"xpad\":40},\"colorscale\":[[0.0,\"rgb(247,251,255)\"],[0.125,\"rgb(222,235,247)\"],[0.25,\"rgb(198,219,239)\"],[0.375,\"rgb(158,202,225)\"],[0.5,\"rgb(107,174,214)\"],[0.625,\"rgb(66,146,198)\"],[0.75,\"rgb(33,113,181)\"],[0.875,\"rgb(8,81,156)\"],[1.0,\"rgb(8,48,107)\"]],\"line\":{\"color\":\"Grey\",\"width\":0.5},\"showscale\":false},\"mode\":\"markers\",\"name\":\"Feasible Trial\",\"showlegend\":false,\"x\":[437,240,641,850,374,651,510,633,158,374,209,333,592,946,179,450,353,167,104,794,877,380,899,785,570,128,917,306,937,824,827,305,106,207,567,967,356,146,230,705,431,181,136,561,722,407,332,577,911,754,678,646,104,687,393,692,338,903,619,352,947,113,968,866,943,654,890,423,881,819,901,621,358,841,793,146,754,816,122,468,594,960,478,112,870,542,459,437,693,123,449,948,276,185,861,206,762,776,435,873],\"y\":[-0.27814573210076976,-0.36677193806695596,-0.38435164749872824,-0.10130587342120467,-0.13579202391858924,-0.20091024543620692,-0.2618087788763922,-0.11143723817119451,-0.35943639182257103,-0.22776151902665517,-0.3796567595135133,-0.2624205857096379,-0.34296628933103024,-0.37838251319211286,-0.16098974724530044,-0.20373191591248227,-0.35943489560824593,-0.1201252839367859,-0.32580784373849486,-0.09899872422443909,-0.0977410815368525,-0.2937325621403975,-0.323564650902921,-0.25211366046410694,-0.0951395886879371,-0.25808618516192194,-0.3425336281084815,-0.10330184183879298,-0.3709387308230124,-0.2686830250980725,-0.0990292063982462,-0.3711776957785163,-0.11500224541696431,-0.18538771891737543,-0.385610598858639,-0.16999814477865355,-0.26269113307372194,-0.12755460185652528,-0.13774973437699536,-0.3245668146057383,-0.2640565567761829,-0.10353498670809087,-0.107170574381076,-0.11307853708460294,-0.12069319910729197,-0.3700930307076836,-0.274876736211668,-0.3714249837201654,-0.16589031635997525,-0.34339305015336175,-0.371253869900478,-0.3065081218997005,-0.3045401680256855,-0.12309484890554642,-0.35736688748926715,-0.19856554482680816,-0.22305664274380305,-0.2657780316203405,-0.3220013202058719,-0.11162608037006234,-0.21461615700567024,-0.38864295272410676,-0.1980059900571592,-0.2757874156252204,-0.10537092553392982,-0.2609819166325997,-0.32243097815116173,-0.3613788617495643,-0.2624212241733281,-0.34168055208594494,-0.09955484278549603,-0.26271196276318914,-0.08878157923425314,-0.26136568762633694,-0.10644533564677153,-0.287297073122201,-0.16656761048105945,-0.10049025921482486,-0.3048232948890833,-0.13153560446379914,-0.13898609764639022,-0.29010749181791323,-0.3442620809298097,-0.09001014785221528,-0.10087585943036852,-0.22941883645166747,-0.10646009224512223,-0.3745809400449385,-0.2894756816360368,-0.28420237981116525,-0.26159072095555846,-0.38032683407472645,-0.08984557446927338,-0.16998771177622657,-0.1434817902207564,-0.3673025855911793,-0.10341209983863975,-0.24588965908025145,-0.37778171722504733,-0.34468325600028027],\"type\":\"scatter\",\"xaxis\":\"x4\",\"yaxis\":\"y4\"}],                        {\"template\":{\"data\":{\"histogram2dcontour\":[{\"type\":\"histogram2dcontour\",\"colorbar\":{\"outlinewidth\":0,\"ticks\":\"\"},\"colorscale\":[[0.0,\"#0d0887\"],[0.1111111111111111,\"#46039f\"],[0.2222222222222222,\"#7201a8\"],[0.3333333333333333,\"#9c179e\"],[0.4444444444444444,\"#bd3786\"],[0.5555555555555556,\"#d8576b\"],[0.6666666666666666,\"#ed7953\"],[0.7777777777777778,\"#fb9f3a\"],[0.8888888888888888,\"#fdca26\"],[1.0,\"#f0f921\"]]}],\"choropleth\":[{\"type\":\"choropleth\",\"colorbar\":{\"outlinewidth\":0,\"ticks\":\"\"}}],\"histogram2d\":[{\"type\":\"histogram2d\",\"colorbar\":{\"outlinewidth\":0,\"ticks\":\"\"},\"colorscale\":[[0.0,\"#0d0887\"],[0.1111111111111111,\"#46039f\"],[0.2222222222222222,\"#7201a8\"],[0.3333333333333333,\"#9c179e\"],[0.4444444444444444,\"#bd3786\"],[0.5555555555555556,\"#d8576b\"],[0.6666666666666666,\"#ed7953\"],[0.7777777777777778,\"#fb9f3a\"],[0.8888888888888888,\"#fdca26\"],[1.0,\"#f0f921\"]]}],\"heatmap\":[{\"type\":\"heatmap\",\"colorbar\":{\"outlinewidth\":0,\"ticks\":\"\"},\"colorscale\":[[0.0,\"#0d0887\"],[0.1111111111111111,\"#46039f\"],[0.2222222222222222,\"#7201a8\"],[0.3333333333333333,\"#9c179e\"],[0.4444444444444444,\"#bd3786\"],[0.5555555555555556,\"#d8576b\"],[0.6666666666666666,\"#ed7953\"],[0.7777777777777778,\"#fb9f3a\"],[0.8888888888888888,\"#fdca26\"],[1.0,\"#f0f921\"]]}],\"heatmapgl\":[{\"type\":\"heatmapgl\",\"colorbar\":{\"outlinewidth\":0,\"ticks\":\"\"},\"colorscale\":[[0.0,\"#0d0887\"],[0.1111111111111111,\"#46039f\"],[0.2222222222222222,\"#7201a8\"],[0.3333333333333333,\"#9c179e\"],[0.4444444444444444,\"#bd3786\"],[0.5555555555555556,\"#d8576b\"],[0.6666666666666666,\"#ed7953\"],[0.7777777777777778,\"#fb9f3a\"],[0.8888888888888888,\"#fdca26\"],[1.0,\"#f0f921\"]]}],\"contourcarpet\":[{\"type\":\"contourcarpet\",\"colorbar\":{\"outlinewidth\":0,\"ticks\":\"\"}}],\"contour\":[{\"type\":\"contour\",\"colorbar\":{\"outlinewidth\":0,\"ticks\":\"\"},\"colorscale\":[[0.0,\"#0d0887\"],[0.1111111111111111,\"#46039f\"],[0.2222222222222222,\"#7201a8\"],[0.3333333333333333,\"#9c179e\"],[0.4444444444444444,\"#bd3786\"],[0.5555555555555556,\"#d8576b\"],[0.6666666666666666,\"#ed7953\"],[0.7777777777777778,\"#fb9f3a\"],[0.8888888888888888,\"#fdca26\"],[1.0,\"#f0f921\"]]}],\"surface\":[{\"type\":\"surface\",\"colorbar\":{\"outlinewidth\":0,\"ticks\":\"\"},\"colorscale\":[[0.0,\"#0d0887\"],[0.1111111111111111,\"#46039f\"],[0.2222222222222222,\"#7201a8\"],[0.3333333333333333,\"#9c179e\"],[0.4444444444444444,\"#bd3786\"],[0.5555555555555556,\"#d8576b\"],[0.6666666666666666,\"#ed7953\"],[0.7777777777777778,\"#fb9f3a\"],[0.8888888888888888,\"#fdca26\"],[1.0,\"#f0f921\"]]}],\"mesh3d\":[{\"type\":\"mesh3d\",\"colorbar\":{\"outlinewidth\":0,\"ticks\":\"\"}}],\"scatter\":[{\"fillpattern\":{\"fillmode\":\"overlay\",\"size\":10,\"solidity\":0.2},\"type\":\"scatter\"}],\"parcoords\":[{\"type\":\"parcoords\",\"line\":{\"colorbar\":{\"outlinewidth\":0,\"ticks\":\"\"}}}],\"scatterpolargl\":[{\"type\":\"scatterpolargl\",\"marker\":{\"colorbar\":{\"outlinewidth\":0,\"ticks\":\"\"}}}],\"bar\":[{\"error_x\":{\"color\":\"#2a3f5f\"},\"error_y\":{\"color\":\"#2a3f5f\"},\"marker\":{\"line\":{\"color\":\"#E5ECF6\",\"width\":0.5},\"pattern\":{\"fillmode\":\"overlay\",\"size\":10,\"solidity\":0.2}},\"type\":\"bar\"}],\"scattergeo\":[{\"type\":\"scattergeo\",\"marker\":{\"colorbar\":{\"outlinewidth\":0,\"ticks\":\"\"}}}],\"scatterpolar\":[{\"type\":\"scatterpolar\",\"marker\":{\"colorbar\":{\"outlinewidth\":0,\"ticks\":\"\"}}}],\"histogram\":[{\"marker\":{\"pattern\":{\"fillmode\":\"overlay\",\"size\":10,\"solidity\":0.2}},\"type\":\"histogram\"}],\"scattergl\":[{\"type\":\"scattergl\",\"marker\":{\"colorbar\":{\"outlinewidth\":0,\"ticks\":\"\"}}}],\"scatter3d\":[{\"type\":\"scatter3d\",\"line\":{\"colorbar\":{\"outlinewidth\":0,\"ticks\":\"\"}},\"marker\":{\"colorbar\":{\"outlinewidth\":0,\"ticks\":\"\"}}}],\"scattermapbox\":[{\"type\":\"scattermapbox\",\"marker\":{\"colorbar\":{\"outlinewidth\":0,\"ticks\":\"\"}}}],\"scatterternary\":[{\"type\":\"scatterternary\",\"marker\":{\"colorbar\":{\"outlinewidth\":0,\"ticks\":\"\"}}}],\"scattercarpet\":[{\"type\":\"scattercarpet\",\"marker\":{\"colorbar\":{\"outlinewidth\":0,\"ticks\":\"\"}}}],\"carpet\":[{\"aaxis\":{\"endlinecolor\":\"#2a3f5f\",\"gridcolor\":\"white\",\"linecolor\":\"white\",\"minorgridcolor\":\"white\",\"startlinecolor\":\"#2a3f5f\"},\"baxis\":{\"endlinecolor\":\"#2a3f5f\",\"gridcolor\":\"white\",\"linecolor\":\"white\",\"minorgridcolor\":\"white\",\"startlinecolor\":\"#2a3f5f\"},\"type\":\"carpet\"}],\"table\":[{\"cells\":{\"fill\":{\"color\":\"#EBF0F8\"},\"line\":{\"color\":\"white\"}},\"header\":{\"fill\":{\"color\":\"#C8D4E3\"},\"line\":{\"color\":\"white\"}},\"type\":\"table\"}],\"barpolar\":[{\"marker\":{\"line\":{\"color\":\"#E5ECF6\",\"width\":0.5},\"pattern\":{\"fillmode\":\"overlay\",\"size\":10,\"solidity\":0.2}},\"type\":\"barpolar\"}],\"pie\":[{\"automargin\":true,\"type\":\"pie\"}]},\"layout\":{\"autotypenumbers\":\"strict\",\"colorway\":[\"#636efa\",\"#EF553B\",\"#00cc96\",\"#ab63fa\",\"#FFA15A\",\"#19d3f3\",\"#FF6692\",\"#B6E880\",\"#FF97FF\",\"#FECB52\"],\"font\":{\"color\":\"#2a3f5f\"},\"hovermode\":\"closest\",\"hoverlabel\":{\"align\":\"left\"},\"paper_bgcolor\":\"white\",\"plot_bgcolor\":\"#E5ECF6\",\"polar\":{\"bgcolor\":\"#E5ECF6\",\"angularaxis\":{\"gridcolor\":\"white\",\"linecolor\":\"white\",\"ticks\":\"\"},\"radialaxis\":{\"gridcolor\":\"white\",\"linecolor\":\"white\",\"ticks\":\"\"}},\"ternary\":{\"bgcolor\":\"#E5ECF6\",\"aaxis\":{\"gridcolor\":\"white\",\"linecolor\":\"white\",\"ticks\":\"\"},\"baxis\":{\"gridcolor\":\"white\",\"linecolor\":\"white\",\"ticks\":\"\"},\"caxis\":{\"gridcolor\":\"white\",\"linecolor\":\"white\",\"ticks\":\"\"}},\"coloraxis\":{\"colorbar\":{\"outlinewidth\":0,\"ticks\":\"\"}},\"colorscale\":{\"sequential\":[[0.0,\"#0d0887\"],[0.1111111111111111,\"#46039f\"],[0.2222222222222222,\"#7201a8\"],[0.3333333333333333,\"#9c179e\"],[0.4444444444444444,\"#bd3786\"],[0.5555555555555556,\"#d8576b\"],[0.6666666666666666,\"#ed7953\"],[0.7777777777777778,\"#fb9f3a\"],[0.8888888888888888,\"#fdca26\"],[1.0,\"#f0f921\"]],\"sequentialminus\":[[0.0,\"#0d0887\"],[0.1111111111111111,\"#46039f\"],[0.2222222222222222,\"#7201a8\"],[0.3333333333333333,\"#9c179e\"],[0.4444444444444444,\"#bd3786\"],[0.5555555555555556,\"#d8576b\"],[0.6666666666666666,\"#ed7953\"],[0.7777777777777778,\"#fb9f3a\"],[0.8888888888888888,\"#fdca26\"],[1.0,\"#f0f921\"]],\"diverging\":[[0,\"#8e0152\"],[0.1,\"#c51b7d\"],[0.2,\"#de77ae\"],[0.3,\"#f1b6da\"],[0.4,\"#fde0ef\"],[0.5,\"#f7f7f7\"],[0.6,\"#e6f5d0\"],[0.7,\"#b8e186\"],[0.8,\"#7fbc41\"],[0.9,\"#4d9221\"],[1,\"#276419\"]]},\"xaxis\":{\"gridcolor\":\"white\",\"linecolor\":\"white\",\"ticks\":\"\",\"title\":{\"standoff\":15},\"zerolinecolor\":\"white\",\"automargin\":true,\"zerolinewidth\":2},\"yaxis\":{\"gridcolor\":\"white\",\"linecolor\":\"white\",\"ticks\":\"\",\"title\":{\"standoff\":15},\"zerolinecolor\":\"white\",\"automargin\":true,\"zerolinewidth\":2},\"scene\":{\"xaxis\":{\"backgroundcolor\":\"#E5ECF6\",\"gridcolor\":\"white\",\"linecolor\":\"white\",\"showbackground\":true,\"ticks\":\"\",\"zerolinecolor\":\"white\",\"gridwidth\":2},\"yaxis\":{\"backgroundcolor\":\"#E5ECF6\",\"gridcolor\":\"white\",\"linecolor\":\"white\",\"showbackground\":true,\"ticks\":\"\",\"zerolinecolor\":\"white\",\"gridwidth\":2},\"zaxis\":{\"backgroundcolor\":\"#E5ECF6\",\"gridcolor\":\"white\",\"linecolor\":\"white\",\"showbackground\":true,\"ticks\":\"\",\"zerolinecolor\":\"white\",\"gridwidth\":2}},\"shapedefaults\":{\"line\":{\"color\":\"#2a3f5f\"}},\"annotationdefaults\":{\"arrowcolor\":\"#2a3f5f\",\"arrowhead\":0,\"arrowwidth\":1},\"geo\":{\"bgcolor\":\"white\",\"landcolor\":\"#E5ECF6\",\"subunitcolor\":\"white\",\"showland\":true,\"showlakes\":true,\"lakecolor\":\"white\"},\"title\":{\"x\":0.05},\"mapbox\":{\"style\":\"light\"}}},\"xaxis\":{\"anchor\":\"y\",\"domain\":[0.0,0.2125],\"title\":{\"text\":\"max_depth\"}},\"yaxis\":{\"anchor\":\"x\",\"domain\":[0.0,1.0],\"title\":{\"text\":\"Objective Value\"}},\"xaxis2\":{\"anchor\":\"y2\",\"domain\":[0.2625,0.475],\"title\":{\"text\":\"min_samples_leaf\"}},\"yaxis2\":{\"anchor\":\"x2\",\"domain\":[0.0,1.0],\"matches\":\"y\",\"showticklabels\":false},\"xaxis3\":{\"anchor\":\"y3\",\"domain\":[0.525,0.7375],\"title\":{\"text\":\"min_samples_split\"}},\"yaxis3\":{\"anchor\":\"x3\",\"domain\":[0.0,1.0],\"matches\":\"y\",\"showticklabels\":false},\"xaxis4\":{\"anchor\":\"y4\",\"domain\":[0.7875,1.0],\"title\":{\"text\":\"n_estimators\"}},\"yaxis4\":{\"anchor\":\"x4\",\"domain\":[0.0,1.0],\"matches\":\"y\",\"showticklabels\":false},\"title\":{\"text\":\"Slice Plot\"},\"width\":1200},                        {\"responsive\": true}                    ).then(function(){\n",
              "                            \n",
              "var gd = document.getElementById('b1a10072-3221-43d9-b48a-c26b23fb5ad9');\n",
              "var x = new MutationObserver(function (mutations, observer) {{\n",
              "        var display = window.getComputedStyle(gd).display;\n",
              "        if (!display || display === 'none') {{\n",
              "            console.log([gd, 'removed!']);\n",
              "            Plotly.purge(gd);\n",
              "            observer.disconnect();\n",
              "        }}\n",
              "}});\n",
              "\n",
              "// Listen for the removal of the full notebook cells\n",
              "var notebookContainer = gd.closest('#notebook-container');\n",
              "if (notebookContainer) {{\n",
              "    x.observe(notebookContainer, {childList: true});\n",
              "}}\n",
              "\n",
              "// Listen for the clearing of the current output cell\n",
              "var outputEl = gd.closest('.output');\n",
              "if (outputEl) {{\n",
              "    x.observe(outputEl, {childList: true});\n",
              "}}\n",
              "\n",
              "                        })                };                            </script>        </div>\n",
              "</body>\n",
              "</html>"
            ]
          },
          "metadata": {}
        }
      ]
    },
    {
      "cell_type": "markdown",
      "source": [
        "# **ACTUAL & PREDICTED PRICE**"
      ],
      "metadata": {
        "id": "FFsxcal_hZXA"
      }
    },
    {
      "cell_type": "code",
      "source": [
        "plt.figure(figsize=(10, 6))\n",
        "plt.scatter(y_test, y_pred, color='blue')\n",
        "plt.plot([y_test.min(), y_test.max()], [y_test.min(), y_test.max()], linestyle='--', color='red', linewidth=2)\n",
        "plt.xlabel('Actual Price')\n",
        "plt.ylabel('Predicted Price')\n",
        "plt.title('Actual vs Predicted Price')\n",
        "plt.show()"
      ],
      "metadata": {
        "colab": {
          "base_uri": "https://localhost:8080/",
          "height": 564
        },
        "id": "UDFxiDFUcMrc",
        "outputId": "aed36197-e8f0-40f9-c7fe-e1280e4a932c"
      },
      "execution_count": 400,
      "outputs": [
        {
          "output_type": "display_data",
          "data": {
            "text/plain": [
              "<Figure size 1000x600 with 1 Axes>"
            ],
            "image/png": "[encoded data removed]"
          },
          "metadata": {}
        }
      ]
    },
    {
      "cell_type": "markdown",
      "source": [
        "# **Using Best Parameters in New Model**"
      ],
      "metadata": {
        "id": "dIs9UcLqcvOJ"
      }
    },
    {
      "cell_type": "code",
      "source": [
        "best_n_estimators = best_params['n_estimators']\n",
        "best_max_depth = best_params['max_depth']\n",
        "best_min_samples_split = best_params['min_samples_split']\n",
        "best_min_samples_leaf = best_params['min_samples_leaf']"
      ],
      "metadata": {
        "id": "yWM48r4Dcwq9"
      },
      "execution_count": 401,
      "outputs": []
    },
    {
      "cell_type": "code",
      "source": [
        "best_model = RandomForestRegressor(n_estimators=best_n_estimators, max_depth=best_max_depth,\n",
        "                                 min_samples_split=best_min_samples_split, min_samples_leaf=best_min_samples_leaf)"
      ],
      "metadata": {
        "id": "ElLHqp-Wc4zD"
      },
      "execution_count": 402,
      "outputs": []
    },
    {
      "cell_type": "code",
      "source": [
        "best_model.fit(X_train, y_train)"
      ],
      "metadata": {
        "colab": {
          "base_uri": "https://localhost:8080/",
          "height": 75
        },
        "id": "7ZoFIQQPc4wJ",
        "outputId": "e1eadfc5-223a-45b7-a696-1a42b6588f97"
      },
      "execution_count": 403,
      "outputs": [
        {
          "output_type": "execute_result",
          "data": {
            "text/plain": [
              "RandomForestRegressor(max_depth=34, n_estimators=358)"
            ],
            "text/html": [
              "<style>#sk-container-id-10 {color: black;background-color: white;}#sk-container-id-10 pre{padding: 0;}#sk-container-id-10 div.sk-toggleable {background-color: white;}#sk-container-id-10 label.sk-toggleable__label {cursor: pointer;display: block;width: 100%;margin-bottom: 0;padding: 0.3em;box-sizing: border-box;text-align: center;}#sk-container-id-10 label.sk-toggleable__label-arrow:before {content: \"▸\";float: left;margin-right: 0.25em;color: #696969;}#sk-container-id-10 label.sk-toggleable__label-arrow:hover:before {color: black;}#sk-container-id-10 div.sk-estimator:hover label.sk-toggleable__label-arrow:before {color: black;}#sk-container-id-10 div.sk-toggleable__content {max-height: 0;max-width: 0;overflow: hidden;text-align: left;background-color: #f0f8ff;}#sk-container-id-10 div.sk-toggleable__content pre {margin: 0.2em;color: black;border-radius: 0.25em;background-color: #f0f8ff;}#sk-container-id-10 input.sk-toggleable__control:checked~div.sk-toggleable__content {max-height: 200px;max-width: 100%;overflow: auto;}#sk-container-id-10 input.sk-toggleable__control:checked~label.sk-toggleable__label-arrow:before {content: \"▾\";}#sk-container-id-10 div.sk-estimator input.sk-toggleable__control:checked~label.sk-toggleable__label {background-color: #d4ebff;}#sk-container-id-10 div.sk-label input.sk-toggleable__control:checked~label.sk-toggleable__label {background-color: #d4ebff;}#sk-container-id-10 input.sk-hidden--visually {border: 0;clip: rect(1px 1px 1px 1px);clip: rect(1px, 1px, 1px, 1px);height: 1px;margin: -1px;overflow: hidden;padding: 0;position: absolute;width: 1px;}#sk-container-id-10 div.sk-estimator {font-family: monospace;background-color: #f0f8ff;border: 1px dotted black;border-radius: 0.25em;box-sizing: border-box;margin-bottom: 0.5em;}#sk-container-id-10 div.sk-estimator:hover {background-color: #d4ebff;}#sk-container-id-10 div.sk-parallel-item::after {content: \"\";width: 100%;border-bottom: 1px solid gray;flex-grow: 1;}#sk-container-id-10 div.sk-label:hover label.sk-toggleable__label {background-color: #d4ebff;}#sk-container-id-10 div.sk-serial::before {content: \"\";position: absolute;border-left: 1px solid gray;box-sizing: border-box;top: 0;bottom: 0;left: 50%;z-index: 0;}#sk-container-id-10 div.sk-serial {display: flex;flex-direction: column;align-items: center;background-color: white;padding-right: 0.2em;padding-left: 0.2em;position: relative;}#sk-container-id-10 div.sk-item {position: relative;z-index: 1;}#sk-container-id-10 div.sk-parallel {display: flex;align-items: stretch;justify-content: center;background-color: white;position: relative;}#sk-container-id-10 div.sk-item::before, #sk-container-id-10 div.sk-parallel-item::before {content: \"\";position: absolute;border-left: 1px solid gray;box-sizing: border-box;top: 0;bottom: 0;left: 50%;z-index: -1;}#sk-container-id-10 div.sk-parallel-item {display: flex;flex-direction: column;z-index: 1;position: relative;background-color: white;}#sk-container-id-10 div.sk-parallel-item:first-child::after {align-self: flex-end;width: 50%;}#sk-container-id-10 div.sk-parallel-item:last-child::after {align-self: flex-start;width: 50%;}#sk-container-id-10 div.sk-parallel-item:only-child::after {width: 0;}#sk-container-id-10 div.sk-dashed-wrapped {border: 1px dashed gray;margin: 0 0.4em 0.5em 0.4em;box-sizing: border-box;padding-bottom: 0.4em;background-color: white;}#sk-container-id-10 div.sk-label label {font-family: monospace;font-weight: bold;display: inline-block;line-height: 1.2em;}#sk-container-id-10 div.sk-label-container {text-align: center;}#sk-container-id-10 div.sk-container {/* jupyter's `normalize.less` sets `[hidden] { display: none; }` but bootstrap.min.css set `[hidden] { display: none !important; }` so we also need the `!important` here to be able to override the default hidden behavior on the sphinx rendered scikit-learn.org. See: https://github.com/scikit-learn/scikit-learn/issues/21755 */display: inline-block !important;position: relative;}#sk-container-id-10 div.sk-text-repr-fallback {display: none;}</style><div id=\"sk-container-id-10\" class=\"sk-top-container\"><div class=\"sk-text-repr-fallback\"><pre>RandomForestRegressor(max_depth=34, n_estimators=358)</pre><b>In a Jupyter environment, please rerun this cell to show the HTML representation or trust the notebook. <br />On GitHub, the HTML representation is unable to render, please try loading this page with nbviewer.org.</b></div><div class=\"sk-container\" hidden><div class=\"sk-item\"><div class=\"sk-estimator sk-toggleable\"><input class=\"sk-toggleable__control sk-hidden--visually\" id=\"sk-estimator-id-10\" type=\"checkbox\" checked><label for=\"sk-estimator-id-10\" class=\"sk-toggleable__label sk-toggleable__label-arrow\">RandomForestRegressor</label><div class=\"sk-toggleable__content\"><pre>RandomForestRegressor(max_depth=34, n_estimators=358)</pre></div></div></div></div></div>"
            ]
          },
          "metadata": {},
          "execution_count": 403
        }
      ]
    },
    {
      "cell_type": "code",
      "source": [
        "best_model.score(X_train, y_train)"
      ],
      "metadata": {
        "colab": {
          "base_uri": "https://localhost:8080/"
        },
        "id": "wbU58CRpc4sU",
        "outputId": "308af729-9541-447f-d8ef-1d8f16bb4da1"
      },
      "execution_count": 404,
      "outputs": [
        {
          "output_type": "execute_result",
          "data": {
            "text/plain": [
              "0.9877781828255321"
            ]
          },
          "metadata": {},
          "execution_count": 404
        }
      ]
    },
    {
      "cell_type": "code",
      "source": [
        "y_pred = best_model.predict(X_test)"
      ],
      "metadata": {
        "id": "d0CNw5R0c4mG"
      },
      "execution_count": 405,
      "outputs": []
    },
    {
      "cell_type": "code",
      "source": [
        "mse = mean_squared_error(y_test, y_pred)\n",
        "r2_square = r2_score(y_test,y_pred)\n",
        "print(f\" R-squared: {r2_square}\")\n",
        "print(f'Mean Squared Error: {mse}')"
      ],
      "metadata": {
        "colab": {
          "base_uri": "https://localhost:8080/"
        },
        "id": "-4HveNjQdBwK",
        "outputId": "12a6fab2-41d2-4193-c863-97a24f53a0c2"
      },
      "execution_count": 406,
      "outputs": [
        {
          "output_type": "stream",
          "name": "stdout",
          "text": [
            " R-squared: 0.9569025597412142\n",
            "Mean Squared Error: 0.05357049081437454\n"
          ]
        }
      ]
    },
    {
      "cell_type": "markdown",
      "source": [
        "# **INSIGHT:**\n",
        "\n",
        "The scatter plot shows how good our model is at predicting car prices. If the dots are along the diagonal line (red dotted line), this indicates that the predicted and actual prices are almost the same, which is an indication of good performance. The regression coefficient shows the magnitude of the influence of each feature on the car price. The larger the coefficient, the greater its influence on the price of the car. Intercept is the value of the car's price when all features have a value of zero."
      ],
      "metadata": {
        "id": "MPuFzWArqHXf"
      }
    },
    {
      "cell_type": "markdown",
      "source": [
        "# **DETERMINE THE PRICE FROM THE SIZE OF THE MACHINE**"
      ],
      "metadata": {
        "id": "6LFALuhyjjzM"
      }
    },
    {
      "cell_type": "code",
      "source": [
        "X = data[['enginesize']]  # Menggunakan fitur enginesize sebagai prediktor\n",
        "y = data['price']"
      ],
      "metadata": {
        "id": "b4CUL59YjzLg"
      },
      "execution_count": 407,
      "outputs": []
    },
    {
      "cell_type": "markdown",
      "source": [
        "**DIVIDE DATA INTO TRAINING DATA AND TEST DATA**"
      ],
      "metadata": {
        "id": "dXNd_j99kD3o"
      }
    },
    {
      "cell_type": "code",
      "source": [
        "X_train = X[:-20]\n",
        "X_test = X[-20:]\n",
        "y_train = y[:-20]\n",
        "y_test = y[-20:]"
      ],
      "metadata": {
        "id": "ChkLN-1_kGSy"
      },
      "execution_count": 408,
      "outputs": []
    },
    {
      "cell_type": "markdown",
      "source": [
        "**LINEAR REGRESSION MODEL**"
      ],
      "metadata": {
        "id": "X6Xk5ZXOkPZC"
      }
    },
    {
      "cell_type": "code",
      "source": [
        "model = LinearRegression()"
      ],
      "metadata": {
        "id": "Nuoj4a1fkRMM"
      },
      "execution_count": 409,
      "outputs": []
    },
    {
      "cell_type": "markdown",
      "source": [
        "**TRAIN DATA**"
      ],
      "metadata": {
        "id": "A1TzXzfukXc6"
      }
    },
    {
      "cell_type": "code",
      "source": [
        "model.fit(X_train, y_train)"
      ],
      "metadata": {
        "colab": {
          "base_uri": "https://localhost:8080/",
          "height": 75
        },
        "id": "QJX_ymr2kay0",
        "outputId": "cf42f210-7a41-40f4-c9d9-edc81589e014"
      },
      "execution_count": 410,
      "outputs": [
        {
          "output_type": "execute_result",
          "data": {
            "text/plain": [
              "LinearRegression()"
            ],
            "text/html": [
              "<style>#sk-container-id-11 {color: black;background-color: white;}#sk-container-id-11 pre{padding: 0;}#sk-container-id-11 div.sk-toggleable {background-color: white;}#sk-container-id-11 label.sk-toggleable__label {cursor: pointer;display: block;width: 100%;margin-bottom: 0;padding: 0.3em;box-sizing: border-box;text-align: center;}#sk-container-id-11 label.sk-toggleable__label-arrow:before {content: \"▸\";float: left;margin-right: 0.25em;color: #696969;}#sk-container-id-11 label.sk-toggleable__label-arrow:hover:before {color: black;}#sk-container-id-11 div.sk-estimator:hover label.sk-toggleable__label-arrow:before {color: black;}#sk-container-id-11 div.sk-toggleable__content {max-height: 0;max-width: 0;overflow: hidden;text-align: left;background-color: #f0f8ff;}#sk-container-id-11 div.sk-toggleable__content pre {margin: 0.2em;color: black;border-radius: 0.25em;background-color: #f0f8ff;}#sk-container-id-11 input.sk-toggleable__control:checked~div.sk-toggleable__content {max-height: 200px;max-width: 100%;overflow: auto;}#sk-container-id-11 input.sk-toggleable__control:checked~label.sk-toggleable__label-arrow:before {content: \"▾\";}#sk-container-id-11 div.sk-estimator input.sk-toggleable__control:checked~label.sk-toggleable__label {background-color: #d4ebff;}#sk-container-id-11 div.sk-label input.sk-toggleable__control:checked~label.sk-toggleable__label {background-color: #d4ebff;}#sk-container-id-11 input.sk-hidden--visually {border: 0;clip: rect(1px 1px 1px 1px);clip: rect(1px, 1px, 1px, 1px);height: 1px;margin: -1px;overflow: hidden;padding: 0;position: absolute;width: 1px;}#sk-container-id-11 div.sk-estimator {font-family: monospace;background-color: #f0f8ff;border: 1px dotted black;border-radius: 0.25em;box-sizing: border-box;margin-bottom: 0.5em;}#sk-container-id-11 div.sk-estimator:hover {background-color: #d4ebff;}#sk-container-id-11 div.sk-parallel-item::after {content: \"\";width: 100%;border-bottom: 1px solid gray;flex-grow: 1;}#sk-container-id-11 div.sk-label:hover label.sk-toggleable__label {background-color: #d4ebff;}#sk-container-id-11 div.sk-serial::before {content: \"\";position: absolute;border-left: 1px solid gray;box-sizing: border-box;top: 0;bottom: 0;left: 50%;z-index: 0;}#sk-container-id-11 div.sk-serial {display: flex;flex-direction: column;align-items: center;background-color: white;padding-right: 0.2em;padding-left: 0.2em;position: relative;}#sk-container-id-11 div.sk-item {position: relative;z-index: 1;}#sk-container-id-11 div.sk-parallel {display: flex;align-items: stretch;justify-content: center;background-color: white;position: relative;}#sk-container-id-11 div.sk-item::before, #sk-container-id-11 div.sk-parallel-item::before {content: \"\";position: absolute;border-left: 1px solid gray;box-sizing: border-box;top: 0;bottom: 0;left: 50%;z-index: -1;}#sk-container-id-11 div.sk-parallel-item {display: flex;flex-direction: column;z-index: 1;position: relative;background-color: white;}#sk-container-id-11 div.sk-parallel-item:first-child::after {align-self: flex-end;width: 50%;}#sk-container-id-11 div.sk-parallel-item:last-child::after {align-self: flex-start;width: 50%;}#sk-container-id-11 div.sk-parallel-item:only-child::after {width: 0;}#sk-container-id-11 div.sk-dashed-wrapped {border: 1px dashed gray;margin: 0 0.4em 0.5em 0.4em;box-sizing: border-box;padding-bottom: 0.4em;background-color: white;}#sk-container-id-11 div.sk-label label {font-family: monospace;font-weight: bold;display: inline-block;line-height: 1.2em;}#sk-container-id-11 div.sk-label-container {text-align: center;}#sk-container-id-11 div.sk-container {/* jupyter's `normalize.less` sets `[hidden] { display: none; }` but bootstrap.min.css set `[hidden] { display: none !important; }` so we also need the `!important` here to be able to override the default hidden behavior on the sphinx rendered scikit-learn.org. See: https://github.com/scikit-learn/scikit-learn/issues/21755 */display: inline-block !important;position: relative;}#sk-container-id-11 div.sk-text-repr-fallback {display: none;}</style><div id=\"sk-container-id-11\" class=\"sk-top-container\"><div class=\"sk-text-repr-fallback\"><pre>LinearRegression()</pre><b>In a Jupyter environment, please rerun this cell to show the HTML representation or trust the notebook. <br />On GitHub, the HTML representation is unable to render, please try loading this page with nbviewer.org.</b></div><div class=\"sk-container\" hidden><div class=\"sk-item\"><div class=\"sk-estimator sk-toggleable\"><input class=\"sk-toggleable__control sk-hidden--visually\" id=\"sk-estimator-id-11\" type=\"checkbox\" checked><label for=\"sk-estimator-id-11\" class=\"sk-toggleable__label sk-toggleable__label-arrow\">LinearRegression</label><div class=\"sk-toggleable__content\"><pre>LinearRegression()</pre></div></div></div></div></div>"
            ]
          },
          "metadata": {},
          "execution_count": 410
        }
      ]
    },
    {
      "cell_type": "markdown",
      "source": [
        "**PRICE PREDICTION USING TEST DATA**"
      ],
      "metadata": {
        "id": "X3weOU-VkgfY"
      }
    },
    {
      "cell_type": "code",
      "source": [
        "y_pred = model.predict(X_test)"
      ],
      "metadata": {
        "id": "hhoINzRMkiMr"
      },
      "execution_count": 411,
      "outputs": []
    },
    {
      "cell_type": "markdown",
      "source": [
        "**DATA VISUALIZATION**"
      ],
      "metadata": {
        "id": "VZs8H_TYkp5Q"
      }
    },
    {
      "cell_type": "code",
      "source": [
        "plt.scatter(X_test, y_test,  color='black')\n",
        "plt.plot(X_test, y_pred, color='blue', linewidth=3)\n",
        "plt.xlabel('Engine Size')\n",
        "plt.ylabel('Price')\n",
        "plt.title('Linear Regression: Engine Size vs Price')\n",
        "plt.show()"
      ],
      "metadata": {
        "colab": {
          "base_uri": "https://localhost:8080/",
          "height": 472
        },
        "id": "-evGskVPkqT8",
        "outputId": "b090dab3-245b-4252-c8ba-7ada622b5209"
      },
      "execution_count": 412,
      "outputs": [
        {
          "output_type": "display_data",
          "data": {
            "text/plain": [
              "<Figure size 640x480 with 1 Axes>"
            ],
            "image/png": "[encoded data removed]"
          },
          "metadata": {}
        }
      ]
    },
    {
      "cell_type": "markdown",
      "source": [
        "**CALCULATING REGRESSION COOFFENSIENTS AND INTERCEPTS**"
      ],
      "metadata": {
        "id": "C5fouCOdkyKo"
      }
    },
    {
      "cell_type": "code",
      "source": [
        "print(\"Coefficients:\", model.coef_)\n",
        "print(\"Intercept:\", model.intercept_)"
      ],
      "metadata": {
        "colab": {
          "base_uri": "https://localhost:8080/"
        },
        "id": "T5w4ahKYkupF",
        "outputId": "1fff315e-78f9-486f-aa04-5e170bcde7c6"
      },
      "execution_count": 413,
      "outputs": [
        {
          "output_type": "stream",
          "name": "stdout",
          "text": [
            "Coefficients: [0.87296146]\n",
            "Intercept: -0.01934990082223402\n"
          ]
        }
      ]
    },
    {
      "cell_type": "markdown",
      "source": [
        "# **INSIGHT**"
      ],
      "metadata": {
        "id": "2Whf2ksbk881"
      }
    },
    {
      "cell_type": "markdown",
      "source": [
        "**In this case, we use just one feature, namely engine size ('enginesize') to predict the price of the car. From the visualization and regression coefficient results, we can see that there is a positive relationship between engine size and car price, which means the larger the engine size, the higher the car price. Thus, this information can help related parties in determining prices that are appropriate to the size of the car engine they are offering.**"
      ],
      "metadata": {
        "id": "1jDw-YFelCAq"
      }
    },
    {
      "cell_type": "code",
      "source": [],
      "metadata": {
        "id": "nDTy9TVjl-kL"
      },
      "execution_count": 413,
      "outputs": []
    },
    {
      "cell_type": "code",
      "source": [],
      "metadata": {
        "id": "IqG_a78El-bI"
      },
      "execution_count": 413,
      "outputs": []
    }
  ]
}